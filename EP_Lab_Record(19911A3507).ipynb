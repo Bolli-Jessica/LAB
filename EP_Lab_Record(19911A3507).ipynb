{
  "nbformat": 4,
  "nbformat_minor": 0,
  "metadata": {
    "colab": {
      "name": "EP Lab Record(19911A3507).ipynb",
      "provenance": [],
      "collapsed_sections": [
        "bhFAr6Nm-R9m",
        "THvJqD0XBNYv",
        "m9Ux3bxcCH-e",
        "h19qAs-iCrQc"
      ]
    },
    "kernelspec": {
      "display_name": "Python 3",
      "name": "python3"
    },
    "language_info": {
      "name": "python"
    }
  },
  "cells": [
    {
      "cell_type": "markdown",
      "metadata": {
        "id": "71ja9EWG8ckB"
      },
      "source": [
        "#**Exercise : 1**"
      ]
    },
    {
      "cell_type": "markdown",
      "metadata": {
        "id": "mZCAvYhQ7MYk"
      },
      "source": [
        "**Write a program to demonstrate the use of basic data types**"
      ]
    },
    {
      "cell_type": "code",
      "metadata": {
        "colab": {
          "base_uri": "https://localhost:8080/"
        },
        "id": "5R0NwHZ77f22",
        "outputId": "8e57ef42-c89e-48fc-f6c3-314008613306"
      },
      "source": [
        "#1.NUMERIC\n",
        "#1.a)int\n",
        "a=int(input(\"enter num\"))\n",
        "b=int(input(\"enter num\"))\n",
        "c=a+b\n",
        "print(\"sum is\",c)\n",
        "print(type(c))\n",
        "print(\".......\")\n",
        "#1.b)float\n",
        "a=float(input(\"enter num\"))\n",
        "b=float(input(\"enter num\"))\n",
        "c=a+b\n",
        "print(\"sum is\",c)\n",
        "print(type(c))\n",
        "print(\".......\")\n",
        "#1.c)complex\n",
        "a=complex(input(\"enter num\"))\n",
        "b=complex(input(\"enter num\"))\n",
        "c=a+b\n",
        "print(\"sum is\",c)\n",
        "print(type(c))\n",
        "print(\"_____________\")\n",
        "#2.BOOLEAN\n",
        "print(10 > 9)\n",
        "print(10 == 9)\n",
        "print(10 < 9)\n",
        "print(\"_____________\")\n",
        "#3.SET\n",
        "Set = {1, 2, 3}# set of integers\n",
        "print(Set)\n",
        "Set = {1.0, \"Hello\", (1, 2, 3)}# set of mixed datatypes\n",
        "print(Set)\n",
        "print(type(Set))\n",
        "print(\"_____________\")\n",
        "#4.SEQUENCE TYPE\n",
        "#4.a)Strings\n",
        "my_string = \"Hello\"\n",
        "print(my_string)\n",
        "my_string = \"\"\"Hello, I'm jessica     \n",
        "           from Artificial intelligence\"\"\"\n",
        "print(my_string)# triple quotes string can extend multiple lines\n",
        "print(my_string[0:16])\n",
        "print(my_string[:-10])\n",
        "print(type(my_string))\n",
        "print(\".......\")\n",
        "#4.b)list\n",
        "my_list = ['a','b','c','d','e']\n",
        "print(my_list)\n",
        "print(my_list[2])\n",
        "print(my_list[-1])\n",
        "print(type(my_list))\n",
        "print(\".......\")\n",
        "#4.c)Tuple\n",
        "tup=('jessi','surya','shiva','sony','ravz','spoorthy')\n",
        "print(tup)\n",
        "print(tup[0])\n",
        "print(tup[1:4])\n",
        "print(type(tup))\n",
        "print(\"_____________\")\n",
        "#5.DICTIONARY\n",
        "my_dict = {'name': 'jessi', 'age': 19}\n",
        "print(my_dict)\n",
        "print(my_dict['name'])\n",
        "print(my_dict.get('age'))\n",
        "print(type(my_dict))"
      ],
      "execution_count": null,
      "outputs": [
        {
          "output_type": "stream",
          "text": [
            "enter num333\n",
            "enter num554\n",
            "sum is 887\n",
            "<class 'int'>\n",
            ".......\n",
            "enter num459.8\n",
            "enter num234.5\n",
            "sum is 694.3\n",
            "<class 'float'>\n",
            ".......\n",
            "enter num15+50j\n",
            "enter num45+10j\n",
            "sum is (60+60j)\n",
            "<class 'complex'>\n",
            "_____________\n",
            "True\n",
            "False\n",
            "False\n",
            "_____________\n",
            "{1, 2, 3}\n",
            "{1.0, 'Hello', (1, 2, 3)}\n",
            "<class 'set'>\n",
            "_____________\n",
            "Hello\n",
            "Hello, I'm jessica     \n",
            "           from Artificial intelligence\n",
            "Hello, I'm jessi\n",
            "Hello, I'm jessica     \n",
            "           from Artificial in\n",
            "<class 'str'>\n",
            ".......\n",
            "['a', 'b', 'c', 'd', 'e']\n",
            "c\n",
            "e\n",
            "<class 'list'>\n",
            ".......\n",
            "('jessi', 'surya', 'shiva', 'sony', 'ravz', 'spoorthy')\n",
            "jessi\n",
            "('surya', 'shiva', 'sony')\n",
            "<class 'tuple'>\n",
            "_____________\n",
            "{'name': 'jessi', 'age': 19}\n",
            "jessi\n",
            "19\n",
            "<class 'dict'>\n"
          ],
          "name": "stdout"
        }
      ]
    },
    {
      "cell_type": "markdown",
      "metadata": {
        "id": "G8slDkLt7sRg"
      },
      "source": [
        "**c) Write a program to demonstrate the operators and expressions**"
      ]
    },
    {
      "cell_type": "code",
      "metadata": {
        "id": "uZfyVd2676Ug",
        "colab": {
          "base_uri": "https://localhost:8080/"
        },
        "outputId": "05af7db2-f419-4905-f510-ba576a5de00a"
      },
      "source": [
        "#1.OPERATORS\n",
        "#1.a)Arithmetic operators\n",
        "a = int(input(\"Enter a number\"))\n",
        "b = int(input(\"Enter a number\"))\n",
        "add = a + b # Addition of numbers \n",
        "sub = a - b # Subtraction of numbers \n",
        "mul = a * b # Multiplication of number \n",
        "div1 = a / b # Division(float) of number \n",
        "div2 = a // b # Division(floor) of number \n",
        "mod = a % b # Modulo of both number \n",
        "p = a ** b# Power\n",
        "print(add) \n",
        "print(sub) \n",
        "print(mul) \n",
        "print(div1) \n",
        "print(div2) \n",
        "print(mod)\n",
        "print(p)\n",
        "print(\"..................\")\n",
        "#1.b)Relatinal operators\n",
        "print(a > b)\n",
        "print(a < b)\n",
        "print(a == b)\n",
        "print(a != b)\n",
        "print(a >= b)\n",
        "print(a <= b)\n",
        "print(\"..................\")\n",
        "#1.c)Bitwise operators\n",
        "print(a & b)#bitwise AND operation  \n",
        "print(a | b)#bitwise OR operation\n",
        "print(~a)#bitwise NOT operation \n",
        "print(a ^ b)#bitwise XOR operation \n",
        "print(a >> 2)#bitwise right shift operation \n",
        "print(a << 2)#bitwise left shift operation\n",
        "print(\"..................\")\n",
        "#1.d)Identity operators\n",
        "print(a is not b) \n",
        "print(a is b)\n",
        "print(\"..................\")\n",
        "#1.e)Logical operators\n",
        "S=True\n",
        "T=False\n",
        "print(S and T)\n",
        "print(S or T)\n",
        "print(not S)\n",
        "print(not T)\n",
        "print(\"..................\")\n",
        "#1.f)Assignment operators\n",
        "a+=b\n",
        "print(a)\n",
        "a-=b\n",
        "print(a)\n",
        "a*=b\n",
        "print(a)\n",
        "a/=b\n",
        "print(a)\n",
        "a%=b\n",
        "print(a)\n",
        "a//=b\n",
        "print(a)\n",
        "a**=b\n",
        "print(a)\n",
        "print(\"..................\")\n",
        "#1.g)Membership operators\n",
        "x = 'Dept of Artificial intelligence'\n",
        "y = {1:'a',2:'b'}\n",
        "print('D' in x)\n",
        "print('of' not in x)\n",
        "print('Of' not in x)\n",
        "print(1 in y)\n",
        "print('e' in y)"
      ],
      "execution_count": null,
      "outputs": [
        {
          "output_type": "stream",
          "text": [
            "Enter a number10\n",
            "Enter a number5\n",
            "15\n",
            "5\n",
            "50\n",
            "2.0\n",
            "2\n",
            "0\n",
            "100000\n",
            "..................\n",
            "True\n",
            "False\n",
            "False\n",
            "True\n",
            "True\n",
            "False\n",
            "..................\n",
            "0\n",
            "15\n",
            "-11\n",
            "15\n",
            "2\n",
            "40\n",
            "..................\n",
            "True\n",
            "False\n",
            "..................\n",
            "False\n",
            "True\n",
            "False\n",
            "True\n",
            "..................\n",
            "15\n",
            "10\n",
            "50\n",
            "10.0\n",
            "0.0\n",
            "0.0\n",
            "0.0\n",
            "..................\n",
            "True\n",
            "False\n",
            "True\n",
            "True\n",
            "False\n"
          ],
          "name": "stdout"
        }
      ]
    },
    {
      "cell_type": "markdown",
      "metadata": {
        "id": "osfxQJOd7_kw"
      },
      "source": [
        "*****python program to demonstrate functions and parameter passing techniques**"
      ]
    },
    {
      "cell_type": "code",
      "metadata": {
        "id": "nWKTJ6Pi8Hgg",
        "colab": {
          "base_uri": "https://localhost:8080/"
        },
        "outputId": "1a938f9b-cb5b-43be-8602-fdc1ae8ae548"
      },
      "source": [
        "#function without any parameters\n",
        "def my_function():#creating a function\n",
        "  print(\"Hi!I'm from Artificial intelligence\")\n",
        "my_function()#calling a function\n",
        "print(\"..................\")\n",
        "#function with parameters\n",
        "def my_dept(dept):\n",
        "  print(\"Hi!I'm from \"+dept)\n",
        "my_dept(\"Artificial intelligence\")\n",
        "my_dept(\"Computer science\")\n",
        "my_dept(\"Machine learning\")\n",
        "print(\"__________________\")\n",
        "#keyword arguments\n",
        "print(\"KEYWORD ARGUMENTS\")\n",
        "def keyarg(name, age):\n",
        "    print(\"name = \" , name)\n",
        "    print(\"age = \", age )\n",
        "keyarg(age=18, name=\"Jessica\")\n",
        "print(\"..................\")\n",
        "#Default arguments\n",
        "print(\"DEFAULT ARGUMENTS\")\n",
        "def defaultarg(name, age=18):\n",
        "    print(\"name = \" , name)\n",
        "    print(\"age = \", age )\n",
        "defaultarg (name= \"Sony\", age=20)\n",
        "defaultarg (name=\"Jessica\")\n",
        "print(\"..................\")\n",
        "#Variable-length arguments\n",
        "print(\"VARIABLE-LENGTH ARGUMENTS\")\n",
        "def vararg(name, *course):\n",
        "    print(\"name = \", name)\n",
        "    print(\"course = \", course)\n",
        "vararg('Jessica', 'Mathematics')\n",
        "vararg('Srija', 'Python', 'Data Structures','Mathematics')\n",
        "\n"
      ],
      "execution_count": null,
      "outputs": [
        {
          "output_type": "stream",
          "text": [
            "Hi!I'm from Artificial intelligence\n",
            "..................\n",
            "Hi!I'm from Artificial intelligence\n",
            "Hi!I'm from Computer science\n",
            "Hi!I'm from Machine learning\n",
            "__________________\n",
            "KEYWORD ARGUMENTS\n",
            "name =  Jessica\n",
            "age =  18\n",
            "..................\n",
            "DEFAULT ARGUMENTS\n",
            "name =  Sony\n",
            "age =  20\n",
            "name =  Jessica\n",
            "age =  18\n",
            "..................\n",
            "VARIABLE-LENGTH ARGUMENTS\n",
            "name =  Jessica\n",
            "course =  ('Mathematics',)\n",
            "name =  Srija\n",
            "course =  ('Python', 'Data Structures', 'Mathematics')\n"
          ],
          "name": "stdout"
        }
      ]
    },
    {
      "cell_type": "markdown",
      "metadata": {
        "id": "2pD8ji978LDS"
      },
      "source": [
        "# **Exercise:2**"
      ]
    },
    {
      "cell_type": "markdown",
      "metadata": {
        "id": "chtODhmY8pxt"
      },
      "source": [
        " **a) Write a program to implement**\n",
        "\n",
        "**1. packages**\n",
        "\n",
        "**2. modules**\n",
        "\n",
        "**3. built-in** "
      ]
    },
    {
      "cell_type": "markdown",
      "metadata": {
        "id": "NpZSl-OASPsB"
      },
      "source": [
        "Packages"
      ]
    },
    {
      "cell_type": "code",
      "metadata": {
        "colab": {
          "base_uri": "https://localhost:8080/"
        },
        "id": "aRllxAkqSSji",
        "outputId": "0974def7-c944-4da6-ca63-6a26bb3a1ec6"
      },
      "source": [
        "import numpy as np\n",
        "array = np.array( [[ 2,4,6],\n",
        "                 [ 1,3,5]] )\n",
        "print(\"Array is of type: \", type(array))\n",
        "\n",
        "print(\"No. of dimensions: \", array.ndim)\n",
        "print(\"Shape of array: \", array.shape)\n",
        "print(\"Size of array: \", array.size)\n",
        "  \n",
        "print(\"Array stores elements of type: \", array.dtype)"
      ],
      "execution_count": null,
      "outputs": [
        {
          "output_type": "stream",
          "text": [
            "Array is of type:  <class 'numpy.ndarray'>\n",
            "No. of dimensions:  2\n",
            "Shape of array:  (2, 3)\n",
            "Size of array:  6\n",
            "Array stores elements of type:  int64\n"
          ],
          "name": "stdout"
        }
      ]
    },
    {
      "cell_type": "code",
      "metadata": {
        "colab": {
          "base_uri": "https://localhost:8080/"
        },
        "id": "qPROxRIUa8aO",
        "outputId": "13c40d43-1801-41d9-aed8-e904686fe72b"
      },
      "source": [
        "import pandas as pd\n",
        "import numpy as np\n",
        "\n",
        "ser = pd.Series()\n",
        "\t\n",
        "print(ser)\n",
        "data = np.array(['b', 'o', 'o', 'k', 's'])\n",
        "\t\n",
        "ser = pd.Series(data)\n",
        "print(ser)\n"
      ],
      "execution_count": null,
      "outputs": [
        {
          "output_type": "stream",
          "text": [
            "Series([], dtype: float64)\n",
            "0    b\n",
            "1    o\n",
            "2    o\n",
            "3    k\n",
            "4    s\n",
            "dtype: object\n"
          ],
          "name": "stdout"
        },
        {
          "output_type": "stream",
          "text": [
            "/usr/local/lib/python3.7/dist-packages/ipykernel_launcher.py:4: DeprecationWarning: The default dtype for empty Series will be 'object' instead of 'float64' in a future version. Specify a dtype explicitly to silence this warning.\n",
            "  after removing the cwd from sys.path.\n"
          ],
          "name": "stderr"
        }
      ]
    },
    {
      "cell_type": "markdown",
      "metadata": {
        "id": "O_zXO-Q5RW0s"
      },
      "source": [
        "Modules"
      ]
    },
    {
      "cell_type": "code",
      "metadata": {
        "id": "nEHUMwhzYOLc"
      },
      "source": [
        "def fib(n):    # write Fibonacci series up to n\n",
        "    a, b = 0, 1\n",
        "    while a < n:\n",
        "        print(a, end=' ')\n",
        "        a, b = b, a+b\n",
        "    print()\n",
        "\n",
        "def fib2(n):   # return Fibonacci series up to n\n",
        "    result = []\n",
        "    a, b = 0, 1\n",
        "    while a < n:\n",
        "        result.append(a)\n",
        "        a, b = b, a+b\n",
        "    return result"
      ],
      "execution_count": null,
      "outputs": []
    },
    {
      "cell_type": "code",
      "metadata": {
        "id": "T8LX-YKP8wNB",
        "colab": {
          "base_uri": "https://localhost:8080/"
        },
        "outputId": "7ee6c099-f614-4428-8831-d3e07882efa9"
      },
      "source": [
        "#1.Absolute\n",
        "print(\"ABSOLUTE\")\n",
        "print('Absolute of -10.589 = ', abs(-10.589))\n",
        "#2.Binary\n",
        "print(\"BINARY\")\n",
        "print(\"Binary Equalent of 16\", bin(16))\n",
        "#3.Quotient and remainder\n",
        "print(\"QUOTIENT AND REMAINDER\")\n",
        "print(\"Quotient and remainder of 10/5 = \" , divmod(10,5))\n",
        "#4.Float\n",
        "print(\"FLOAT\")\n",
        "print(\"float value of 10 = \", float(10))\n",
        "#5.Int\n",
        "print(\"INT\")\n",
        "print(\"int value of 10.2 =\", int(10.2))\n",
        "#6.Max\n",
        "print(\"MAX\")\n",
        "print(\"Maximum of 10,20,30 = \", max(10,20,30))\n",
        "#7.Min\n",
        "print(\"MIN\")\n",
        "print(\"Minimum of 10,20,30 = \", min(10,20,30))\n",
        "#8.Power\n",
        "print(\"POWER\")\n",
        "print(\"2 power 4 = \", pow(2,4))\n",
        "#9.Evaluate\n",
        "print(\"EVALUATE\")\n",
        "x=2\n",
        "print(\"Evaluate value of x**2 = \",eval('x**2'))\n",
        "import math\n",
        "#9.Square root\n",
        "print(\"SQUARE ROOT\")\n",
        "print(\"Square root of 25 = \" ,math.sqrt(25))\n"
      ],
      "execution_count": null,
      "outputs": [
        {
          "output_type": "stream",
          "text": [
            "ABSOLUTE\n",
            "Absolute of -10.589 =  10.589\n",
            "BINARY\n",
            "Binary Equalent of 16 0b10000\n",
            "QUOTIENT AND REMAINDER\n",
            "Quotient and remainder of 10/5 =  (2, 0)\n",
            "FLOAT\n",
            "float value of 10 =  10.0\n",
            "INT\n",
            "int value of 10.2 = 10\n",
            "MAX\n",
            "Maximum of 10,20,30 =  30\n",
            "MIN\n",
            "Minimum of 10,20,30 =  10\n",
            "POWER\n",
            "2 power 4 =  16\n",
            "EVALUATE\n",
            "Evaluate value of x**2 =  4\n",
            "SQUARE ROOT\n",
            "Square root of 25 =  5.0\n"
          ],
          "name": "stdout"
        }
      ]
    },
    {
      "cell_type": "markdown",
      "metadata": {
        "id": "54c6QbuT9eQf"
      },
      "source": [
        "**b)** **Write a program to implement**\n",
        "\n",
        "1.   **list**\n",
        "2.   **tuple**\n",
        "\n",
        "1.   **dictionaries**\n"
      ]
    },
    {
      "cell_type": "code",
      "metadata": {
        "id": "kUoudhu39m2y",
        "colab": {
          "base_uri": "https://localhost:8080/"
        },
        "outputId": "2aa99f2f-a83b-4840-c1cc-8fef41d434dc"
      },
      "source": [
        "#1)list\n",
        "my_list = ['a','b','c','d','e']\n",
        "print(my_list)\n",
        "print(my_list[2])\n",
        "print(my_list[-1])\n",
        "print(my_list[1:3])\n",
        "print(my_list[ :3])\n",
        "print(my_list[1:])\n",
        "print(my_list[:-3])\n",
        "print(my_list[-1:])\n",
        "print(type(my_list))\n",
        "print(\"_____________\")\n",
        "#2)Tuple\n",
        "tup=('jessica','srija','shiva','sony','raj','spoorthy')\n",
        "tup1=(5,6)\n",
        "tup2=(1,8)\n",
        "print(tup)\n",
        "print(tup[0])\n",
        "print(tup[1:4])\n",
        "print(tup[:3])\n",
        "print(tup[2:])\n",
        "print(tup[:-2])\n",
        "print(tup[-1:])\n",
        "if (tup1>tup2):print( \"tup1 is bigger\")\n",
        "else: print(\"tup2 is bigger\")\n",
        "print(type(tup))\n",
        "print(\"_____________\")\n",
        "#3)DICTIONARY\n",
        "my_dict = {'name': 'jessica', 'age': 19}\n",
        "print(my_dict)\n",
        "print(my_dict['name'])\n",
        "print(my_dict.get('age'))\n",
        "my_dict.update({'Branch':'Aie','marks':20})\n",
        "print(my_dict)\n",
        "del my_dict['marks']\n",
        "print(my_dict)\n",
        "my_dict['marks']='20'\n",
        "print(my_dict)\n",
        "my_dict.pop(\"marks\")\n",
        "print(my_dict)\n",
        "print(type(my_dict))"
      ],
      "execution_count": null,
      "outputs": [
        {
          "output_type": "stream",
          "text": [
            "['a', 'b', 'c', 'd', 'e']\n",
            "c\n",
            "e\n",
            "['b', 'c']\n",
            "['a', 'b', 'c']\n",
            "['b', 'c', 'd', 'e']\n",
            "['a', 'b']\n",
            "['e']\n",
            "<class 'list'>\n",
            "_____________\n",
            "('jessica', 'srija', 'shiva', 'sony', 'raj', 'spoorthy')\n",
            "jessica\n",
            "('srija', 'shiva', 'sony')\n",
            "('jessica', 'srija', 'shiva')\n",
            "('shiva', 'sony', 'raj', 'spoorthy')\n",
            "('jessica', 'srija', 'shiva', 'sony')\n",
            "('spoorthy',)\n",
            "tup1 is bigger\n",
            "<class 'tuple'>\n",
            "_____________\n",
            "{'name': 'jessica', 'age': 19}\n",
            "jessica\n",
            "19\n",
            "{'name': 'jessica', 'age': 19, 'Branch': 'Aie', 'marks': 20}\n",
            "{'name': 'jessica', 'age': 19, 'Branch': 'Aie'}\n",
            "{'name': 'jessica', 'age': 19, 'Branch': 'Aie', 'marks': '20'}\n",
            "{'name': 'jessica', 'age': 19, 'Branch': 'Aie'}\n",
            "<class 'dict'>\n"
          ],
          "name": "stdout"
        }
      ]
    },
    {
      "cell_type": "markdown",
      "metadata": {
        "id": "71Vn4Aqe9_Oc"
      },
      "source": [
        "**c)** **Program on Strings,string operations and regular expression**"
      ]
    },
    {
      "cell_type": "code",
      "metadata": {
        "id": "3kN48jo4-Kv0",
        "colab": {
          "base_uri": "https://localhost:8080/"
        },
        "outputId": "7a4cc3b0-e6fe-4dba-ed53-7c985e282b83"
      },
      "source": [
        "#1)Strings\n",
        "my_string = \"Hello\"\n",
        "print(my_string)\n",
        "my_string = \"\"\"Hello, I'm jessica     \n",
        "           from Artificial intelligence\"\"\"\n",
        "print(my_string)# triple quotes string can extend multiple lines\n",
        "print(\"STRING SLICING\")\n",
        "print(my_string[12])\n",
        "print(my_string[-5])\n",
        "print(my_string[0:16])\n",
        "print(my_string[ :16])\n",
        "print(my_string[12:])\n",
        "print(my_string[:-10])\n",
        "print(my_string[-4:])\n",
        "print(type(my_string))\n",
        "print(\"................\")\n",
        "print(\"STRING OPERATIONS\")\n",
        "s=\"Hi I'm jessica from artificial intelligence\"\n",
        "t=\"Hi\"\n",
        "print(len(str(s)))#finding length of the string\n",
        "print(s.capitalize())#capitalizing first letter of sting\n",
        "print(s.count('i',0,28))#repetation\n",
        "print(s.index(\"f\",12,28))#index finding\n",
        "print(s.isalnum())#checks if there are only alpabets and nums\n",
        "print(s.endswith(\"o\",0,5))#checks if it ends with give alphabet\n",
        "print(s.find(\"from arti\"))\n",
        "print(s.isupper())\n",
        "print(s.islower())\n",
        "print(s.isspace())\n",
        "print(s.istitle())\n",
        "print(t.join(t))\n",
        "print(s.partition(\"from\"))\n",
        "print(s.replace(\"intelligence\",\"engineering\"))\n",
        "print(\"_____________________\")\n",
        "#2)Regular expressions\n",
        "#match\n",
        "import re\n",
        "Name = r\"Jessica\"\n",
        "last_name = \"Jessica\"\n",
        "if re.match(Name,last_name):\n",
        "  print(\"Match!\")\n",
        "else: \n",
        "  print(\"Not a match!\")\n",
        "#findall\n",
        "S =\"Hi I'm jessica from artificial intelligence\"\n",
        "# findall('Pattern', \"string\")\n",
        "x = re.findall('[abc]' , S )\n",
        "y=re.findall('[a-c]', S)\n",
        "z=re.findall('^[a-c]', S)\n",
        "t= re.findall('a*', S)\n",
        "v= re.findall('[a-e]*', S)\n",
        "n= re.findall('[A-Z][a-z]*', s)\n",
        "print(x)\n",
        "print(y)\n",
        "print(z)\n",
        "print(t)\n",
        "print(v)\n",
        "print(n)\n",
        "#search(\"Pattern\", string)\n",
        "if re.search('a*', S):\n",
        "  print(\"Found\")\n",
        "else:\n",
        "  print(\"Not found\")\n",
        "#split\n",
        "text=\"Hi I'm jessica from artificial intelligence\"\n",
        "result = re.split('[a-e]',text)\n",
        "print(result)"
      ],
      "execution_count": null,
      "outputs": [
        {
          "output_type": "stream",
          "text": [
            "Hello\n",
            "Hello, I'm jessica     \n",
            "           from Artificial intelligence\n",
            "STRING SLICING\n",
            "e\n",
            "g\n",
            "Hello, I'm jessi\n",
            "Hello, I'm jessi\n",
            "essica     \n",
            "           from Artificial intelligence\n",
            "Hello, I'm jessica     \n",
            "           from Artificial in\n",
            "ence\n",
            "<class 'str'>\n",
            "................\n",
            "STRING OPERATIONS\n",
            "43\n",
            "Hi i'm jessica from artificial intelligence\n",
            "5\n",
            "15\n",
            "False\n",
            "False\n",
            "15\n",
            "False\n",
            "False\n",
            "False\n",
            "False\n",
            "HHii\n",
            "(\"Hi I'm jessica \", 'from', ' artificial intelligence')\n",
            "Hi I'm jessica from artificial engineering\n",
            "_____________________\n",
            "Match!\n",
            "['c', 'a', 'a', 'c', 'a', 'c']\n",
            "['c', 'a', 'a', 'c', 'a', 'c']\n",
            "[]\n",
            "['', '', '', '', '', '', '', '', '', '', '', '', '', 'a', '', '', '', '', '', '', 'a', '', '', '', '', '', '', '', 'a', '', '', '', '', '', '', '', '', '', '', '', '', '', '', '']\n",
            "['', '', '', '', '', '', '', '', 'e', '', '', '', 'ca', '', '', '', '', '', '', 'a', '', '', '', '', '', 'c', '', 'a', '', '', '', '', '', 'e', '', '', '', '', 'e', '', 'ce', '']\n",
            "['Hi', 'I']\n",
            "Found\n",
            "[\"Hi I'm j\", 'ssi', '', ' from ', 'rtifi', 'i', 'l int', 'llig', 'n', '', '']\n"
          ],
          "name": "stdout"
        }
      ]
    },
    {
      "cell_type": "markdown",
      "metadata": {
        "id": "bhFAr6Nm-R9m"
      },
      "source": [
        "# **Exercise:3**"
      ]
    },
    {
      "cell_type": "markdown",
      "metadata": {
        "id": "U3MmVxzm-XU8"
      },
      "source": [
        "**a)** ***Write a program to implement Class and Object***"
      ]
    },
    {
      "cell_type": "code",
      "metadata": {
        "id": "AdR7sos0-bUA",
        "colab": {
          "base_uri": "https://localhost:8080/"
        },
        "outputId": "df67d405-6102-42ac-98a8-76c44657976d"
      },
      "source": [
        "#classes and objects without constructor\n",
        "print(\"WITHOUT CONSTRUCTOR\")\n",
        "class person:\n",
        "    pass\n",
        "male=person()#object1\n",
        "female=person()#object2\n",
        "male.name='raj'\n",
        "male.age=24\n",
        "female.name='jessica'\n",
        "female.age=18\n",
        "print(male.__dict__)\n",
        "print(female.age)\n",
        "print(female.__dict__)\n",
        "#classes and objects with constructor\n",
        "print(\"WITH CONSTRUCTOR\")\n",
        "class person:\n",
        "    def __init__(self,name,age):\n",
        "        self.name=name\n",
        "        self.age=age\n",
        "male=person('raj',24)\n",
        "female=person('jessica',18)\n",
        "male.lastname='bolli'\n",
        "print(male.__dict__)#dict keyword gives all d info about object\n",
        "print(female.age)\n",
        "print(female.__dict__)"
      ],
      "execution_count": null,
      "outputs": [
        {
          "output_type": "stream",
          "text": [
            "WITHOUT CONSTRUCTOR\n",
            "{'name': 'raj', 'age': 24}\n",
            "18\n",
            "{'name': 'jessica', 'age': 18}\n",
            "WITH CONSTRUCTOR\n",
            "{'name': 'raj', 'age': 24, 'lastname': 'bolli'}\n",
            "18\n",
            "{'name': 'jessica', 'age': 18}\n"
          ],
          "name": "stdout"
        }
      ]
    },
    {
      "cell_type": "markdown",
      "metadata": {
        "id": "oLlM-dAW-eYU"
      },
      "source": [
        "**b)** ***Write a program to implement static and instance methods,Abstract classes and interfaces***"
      ]
    },
    {
      "cell_type": "code",
      "metadata": {
        "id": "P3Zl1L32-hNM",
        "colab": {
          "base_uri": "https://localhost:8080/"
        },
        "outputId": "82231da8-3997-4b5f-f15c-b2f2e7e2c1bf"
      },
      "source": [
        "#Implement static and instance methods\n",
        "print(\"STATIC AND INSTANCE METHODS\")\n",
        "class Shape:\n",
        "    def rectArea(self,l,b):\n",
        "        return(l*b)\n",
        "    @classmethod\n",
        "    def sqArea(cls,s):\n",
        "        return(s*s)\n",
        "    @staticmethod\n",
        "    def CircleArea(r):\n",
        "        return(3.14*r*r)\n",
        "s=Shape()        \n",
        "print(\"Area of Rectangle = \",s.rectArea(2,4))\n",
        "#calling a class method\n",
        "print(\"Area of Square = \",Shape.sqArea(3))\n",
        "#calling a static method\n",
        "print(\"Area of Circle = \",Shape.CircleArea(2))\n",
        "print(\"___________________\")\n",
        "#Abstract class\n",
        "print(\"ABSTRACT CLASS\")\n",
        "from abc import ABC,abstractmethod\n",
        "class Animal(ABC):\n",
        "  @abstractmethod\n",
        "  def eat(self):\n",
        "    pass\n",
        "class Tiger(Animal):\n",
        "  def eat(self):\n",
        "    print(\"Eat non-veg\")\n",
        "class Cow(Animal):\n",
        "  def eat(self):\n",
        "    print(\"Eat veg\")\n",
        "t=Tiger()\n",
        "t.eat()\n",
        "c=Cow()\n",
        "c.eat()"
      ],
      "execution_count": null,
      "outputs": [
        {
          "output_type": "stream",
          "text": [
            "STATIC AND INSTANCE METHODS\n",
            "Area of Rectangle =  8\n",
            "Area of Square =  9\n",
            "Area of Circle =  12.56\n",
            "___________________\n",
            "ABSTRACT CLASS\n",
            "Eat non-veg\n",
            "Eat veg\n"
          ],
          "name": "stdout"
        }
      ]
    },
    {
      "cell_type": "markdown",
      "metadata": {
        "id": "HcuwuB5c-kM7"
      },
      "source": [
        "**c)** **Write a program to compute distance between two points taking input from the user(pythagorean theorm)**"
      ]
    },
    {
      "cell_type": "code",
      "metadata": {
        "id": "H0Z1bBCL-nA4",
        "colab": {
          "base_uri": "https://localhost:8080/"
        },
        "outputId": "d107c1fa-ec2b-4075-96e2-c022de5741c9"
      },
      "source": [
        " x1=int(input(\"enter x1 : \"))\n",
        "x2=int(input(\"enter x2 : \"))\n",
        "y1=int(input(\"enter y1 : \"))\n",
        "y2=int(input(\"enter y2 : \"))\n",
        "result= ((((x2 - x1 )**2) + ((y2-y1)**2) )**0.5)\n",
        "print(\"distance between\",(x1,x2),\"and\",(y1,y2),\"is : \",result)"
      ],
      "execution_count": null,
      "outputs": [
        {
          "output_type": "stream",
          "text": [
            "enter x1 : 4\n",
            "enter x2 : 5\n",
            "enter y1 : 7\n",
            "enter y2 : 8\n",
            "distance between (4, 5) and (7, 8) is :  1.4142135623730951\n"
          ],
          "name": "stdout"
        }
      ]
    },
    {
      "cell_type": "markdown",
      "metadata": {
        "id": "iDV_7iJh-p96"
      },
      "source": [
        "# **Exercise:4**"
      ]
    },
    {
      "cell_type": "markdown",
      "metadata": {
        "id": "3GEAfVFB-s9h"
      },
      "source": [
        "**a)** **Write a program to implement inheritence and polymorphism**"
      ]
    },
    {
      "cell_type": "code",
      "metadata": {
        "id": "JZjDcIku-v67",
        "colab": {
          "base_uri": "https://localhost:8080/"
        },
        "outputId": "65d70e78-27dd-4245-a62c-d2379dfe1679"
      },
      "source": [
        "#1.)INHERITENCE\n",
        "#1.a)Single inheritence\n",
        "print(\"SINGLE INHERITENCE\")\n",
        "class parent:\n",
        "    def fun1(self):\n",
        "        print(\"function 1\")\n",
        "class child(parent):\n",
        "    def fun2(self):\n",
        "        print(\"function 2\")\n",
        "ob=child()\n",
        "ob.fun1()\n",
        "#1.b)Multiple inheritence\n",
        "print(\"MULTIPLE INHERITENCE\")\n",
        "class parent1:\n",
        "    def fun1(self):\n",
        "        print(\"function 1\")\n",
        "class parent2:\n",
        "    def fun2(self):\n",
        "        print(\"function 2\")\n",
        "class child(parent1,parent2):\n",
        "    def fun3(self):\n",
        "        print(\"function 3\")\n",
        "ob=child()\n",
        "ob.fun1()\n",
        "ob.fun2()\n",
        "#1.c)Multilevel inheritence\n",
        "print(\"MULTILEVEL INHERITENCE\")\n",
        "class parent1:\n",
        "    def fun1(self):\n",
        "        print(\"function 1\")\n",
        "class parent2(parent1):\n",
        "    def fun2(self):\n",
        "        print(\"function 2\")\n",
        "class child(parent2):\n",
        "    def fun3(self):\n",
        "        print(\"function 3\")\n",
        "ob=child()\n",
        "ob.fun1()\n",
        "ob.fun2()\n",
        "#1.d)hierarichal inheritence\n",
        "print(\"HIERARICHAL INHERITENCE\")\n",
        "class parent:\n",
        "    def fun1(self):\n",
        "        print(\"function 1\")\n",
        "class child1(parent):\n",
        "    def fun2(self):\n",
        "        print(\"function 2\")\n",
        "class child2(parent):\n",
        "    def fun3(self):\n",
        "        print(\"function 3\")\n",
        "ob=child2()\n",
        "ob.fun1()\n",
        "ob.fun3()\n",
        "#1.e)hybrid inheritence\n",
        "print(\"HYBRID INHERITENCE\")\n",
        "class parent1:\n",
        "    def fun1(self):\n",
        "        print(\"function 1\")\n",
        "class parent2:\n",
        "    def fun4(self):\n",
        "        print(\"function 4\")\n",
        "class child1(parent1):\n",
        "    def fun2(self):\n",
        "        print(\"function 2\")\n",
        "class child2(parent1,parent2):\n",
        "    def fun3(self):\n",
        "        print(\"function 3\")\n",
        "ob=child2()\n",
        "ob.fun1()\n",
        "ob.fun4()\n",
        "print(\"________________\")\n",
        "#2.)polymorphism\n",
        "print(\"POLYMORPHISM\")\n",
        "#overriding a variable\n",
        "class parent:\n",
        "    name=\"priya\"\n",
        "class child(parent):\n",
        "    name=\"dharshini\"#overriding is done here\n",
        "ob=child()\n",
        "ob.name\n",
        "#overriding a method\n",
        "class parent:\n",
        "    def name(self):\n",
        "        return 0\n",
        "class child(parent):\n",
        "    def name(self):\n",
        "        return 1#overriding is done here\n",
        "ob=child()\n",
        "print(ob.name())\n",
        "ob=parent()\n",
        "print(ob.name())"
      ],
      "execution_count": null,
      "outputs": [
        {
          "output_type": "stream",
          "text": [
            "SINGLE INHERITENCE\n",
            "function 1\n",
            "MULTIPLE INHERITENCE\n",
            "function 1\n",
            "function 2\n",
            "MULTILEVEL INHERITENCE\n",
            "function 1\n",
            "function 2\n",
            "HIERARICHAL INHERITENCE\n",
            "function 1\n",
            "function 3\n",
            "HYBRID INHERITENCE\n",
            "function 1\n",
            "function 4\n",
            "________________\n",
            "POLYMORPHISM\n",
            "1\n",
            "0\n"
          ],
          "name": "stdout"
        }
      ]
    },
    {
      "cell_type": "markdown",
      "metadata": {
        "id": "81pZePsu-zWg"
      },
      "source": [
        "**b)** **Write a program to implement files**"
      ]
    },
    {
      "cell_type": "markdown",
      "metadata": {
        "id": "6jxt5VzP-8Id"
      },
      "source": [
        "1)FILE ATTRIBUTES"
      ]
    },
    {
      "cell_type": "code",
      "metadata": {
        "id": "PYlu2Eic--UA",
        "colab": {
          "base_uri": "https://localhost:8080/"
        },
        "outputId": "2cd90179-1d7e-435c-deb8-c881c1442d82"
      },
      "source": [
        "file=open(\"/content/drive/MyDrive/Mall_Customers.csv\",\"r\")\n",
        "print(\"Name of the file:\",file.name)\n",
        "print(\"File open status:\",file.closed)\n",
        "print(\"File opened mode:\",file.mode)\n",
        "print(\"Content in the file:\")\n",
        "print(file.read())\n",
        "file.close()\n",
        "print(\"File open status:\",file.closed)"
      ],
      "execution_count": null,
      "outputs": [
        {
          "output_type": "stream",
          "text": [
            "Name of the file: /content/drive/MyDrive/Mall_Customers.csv\n",
            "File open status: False\n",
            "File opened mode: r\n",
            "Content in the file:\n",
            "CustomerID,Genre,Age,Annual Income (k$),Spending Score (1-100)\n",
            "0001,Male,19,15,39\n",
            "0002,Male,21,15,81\n",
            "0003,Female,20,16,6\n",
            "0004,Female,23,16,77\n",
            "0005,Female,31,17,40\n",
            "0006,Female,22,17,76\n",
            "0007,Female,35,18,6\n",
            "0008,Female,23,18,94\n",
            "0009,Male,64,19,3\n",
            "0010,Female,30,19,72\n",
            "0011,Male,67,19,14\n",
            "0012,Female,35,19,99\n",
            "0013,Female,58,20,15\n",
            "0014,Female,24,20,77\n",
            "0015,Male,37,20,13\n",
            "0016,Male,22,20,79\n",
            "0017,Female,35,21,35\n",
            "0018,Male,20,21,66\n",
            "0019,Male,52,23,29\n",
            "0020,Female,35,23,98\n",
            "0021,Male,35,24,35\n",
            "0022,Male,25,24,73\n",
            "0023,Female,46,25,5\n",
            "0024,Male,31,25,73\n",
            "0025,Female,54,28,14\n",
            "0026,Male,29,28,82\n",
            "0027,Female,45,28,32\n",
            "0028,Male,35,28,61\n",
            "0029,Female,40,29,31\n",
            "0030,Female,23,29,87\n",
            "0031,Male,60,30,4\n",
            "0032,Female,21,30,73\n",
            "0033,Male,53,33,4\n",
            "0034,Male,18,33,92\n",
            "0035,Female,49,33,14\n",
            "0036,Female,21,33,81\n",
            "0037,Female,42,34,17\n",
            "0038,Female,30,34,73\n",
            "0039,Female,36,37,26\n",
            "0040,Female,20,37,75\n",
            "0041,Female,65,38,35\n",
            "0042,Male,24,38,92\n",
            "0043,Male,48,39,36\n",
            "0044,Female,31,39,61\n",
            "0045,Female,49,39,28\n",
            "0046,Female,24,39,65\n",
            "0047,Female,50,40,55\n",
            "0048,Female,27,40,47\n",
            "0049,Female,29,40,42\n",
            "0050,Female,31,40,42\n",
            "0051,Female,49,42,52\n",
            "0052,Male,33,42,60\n",
            "0053,Female,31,43,54\n",
            "0054,Male,59,43,60\n",
            "0055,Female,50,43,45\n",
            "0056,Male,47,43,41\n",
            "0057,Female,51,44,50\n",
            "0058,Male,69,44,46\n",
            "0059,Female,27,46,51\n",
            "0060,Male,53,46,46\n",
            "0061,Male,70,46,56\n",
            "0062,Male,19,46,55\n",
            "0063,Female,67,47,52\n",
            "0064,Female,54,47,59\n",
            "0065,Male,63,48,51\n",
            "0066,Male,18,48,59\n",
            "0067,Female,43,48,50\n",
            "0068,Female,68,48,48\n",
            "0069,Male,19,48,59\n",
            "0070,Female,32,48,47\n",
            "0071,Male,70,49,55\n",
            "0072,Female,47,49,42\n",
            "0073,Female,60,50,49\n",
            "0074,Female,60,50,56\n",
            "0075,Male,59,54,47\n",
            "0076,Male,26,54,54\n",
            "0077,Female,45,54,53\n",
            "0078,Male,40,54,48\n",
            "0079,Female,23,54,52\n",
            "0080,Female,49,54,42\n",
            "0081,Male,57,54,51\n",
            "0082,Male,38,54,55\n",
            "0083,Male,67,54,41\n",
            "0084,Female,46,54,44\n",
            "0085,Female,21,54,57\n",
            "0086,Male,48,54,46\n",
            "0087,Female,55,57,58\n",
            "0088,Female,22,57,55\n",
            "0089,Female,34,58,60\n",
            "0090,Female,50,58,46\n",
            "0091,Female,68,59,55\n",
            "0092,Male,18,59,41\n",
            "0093,Male,48,60,49\n",
            "0094,Female,40,60,40\n",
            "0095,Female,32,60,42\n",
            "0096,Male,24,60,52\n",
            "0097,Female,47,60,47\n",
            "0098,Female,27,60,50\n",
            "0099,Male,48,61,42\n",
            "0100,Male,20,61,49\n",
            "0101,Female,23,62,41\n",
            "0102,Female,49,62,48\n",
            "0103,Male,67,62,59\n",
            "0104,Male,26,62,55\n",
            "0105,Male,49,62,56\n",
            "0106,Female,21,62,42\n",
            "0107,Female,66,63,50\n",
            "0108,Male,54,63,46\n",
            "0109,Male,68,63,43\n",
            "0110,Male,66,63,48\n",
            "0111,Male,65,63,52\n",
            "0112,Female,19,63,54\n",
            "0113,Female,38,64,42\n",
            "0114,Male,19,64,46\n",
            "0115,Female,18,65,48\n",
            "0116,Female,19,65,50\n",
            "0117,Female,63,65,43\n",
            "0118,Female,49,65,59\n",
            "0119,Female,51,67,43\n",
            "0120,Female,50,67,57\n",
            "0121,Male,27,67,56\n",
            "0122,Female,38,67,40\n",
            "0123,Female,40,69,58\n",
            "0124,Male,39,69,91\n",
            "0125,Female,23,70,29\n",
            "0126,Female,31,70,77\n",
            "0127,Male,43,71,35\n",
            "0128,Male,40,71,95\n",
            "0129,Male,59,71,11\n",
            "0130,Male,38,71,75\n",
            "0131,Male,47,71,9\n",
            "0132,Male,39,71,75\n",
            "0133,Female,25,72,34\n",
            "0134,Female,31,72,71\n",
            "0135,Male,20,73,5\n",
            "0136,Female,29,73,88\n",
            "0137,Female,44,73,7\n",
            "0138,Male,32,73,73\n",
            "0139,Male,19,74,10\n",
            "0140,Female,35,74,72\n",
            "0141,Female,57,75,5\n",
            "0142,Male,32,75,93\n",
            "0143,Female,28,76,40\n",
            "0144,Female,32,76,87\n",
            "0145,Male,25,77,12\n",
            "0146,Male,28,77,97\n",
            "0147,Male,48,77,36\n",
            "0148,Female,32,77,74\n",
            "0149,Female,34,78,22\n",
            "0150,Male,34,78,90\n",
            "0151,Male,43,78,17\n",
            "0152,Male,39,78,88\n",
            "0153,Female,44,78,20\n",
            "0154,Female,38,78,76\n",
            "0155,Female,47,78,16\n",
            "0156,Female,27,78,89\n",
            "0157,Male,37,78,1\n",
            "0158,Female,30,78,78\n",
            "0159,Male,34,78,1\n",
            "0160,Female,30,78,73\n",
            "0161,Female,56,79,35\n",
            "0162,Female,29,79,83\n",
            "0163,Male,19,81,5\n",
            "0164,Female,31,81,93\n",
            "0165,Male,50,85,26\n",
            "0166,Female,36,85,75\n",
            "0167,Male,42,86,20\n",
            "0168,Female,33,86,95\n",
            "0169,Female,36,87,27\n",
            "0170,Male,32,87,63\n",
            "0171,Male,40,87,13\n",
            "0172,Male,28,87,75\n",
            "0173,Male,36,87,10\n",
            "0174,Male,36,87,92\n",
            "0175,Female,52,88,13\n",
            "0176,Female,30,88,86\n",
            "0177,Male,58,88,15\n",
            "0178,Male,27,88,69\n",
            "0179,Male,59,93,14\n",
            "0180,Male,35,93,90\n",
            "0181,Female,37,97,32\n",
            "0182,Female,32,97,86\n",
            "0183,Male,46,98,15\n",
            "0184,Female,29,98,88\n",
            "0185,Female,41,99,39\n",
            "0186,Male,30,99,97\n",
            "0187,Female,54,101,24\n",
            "0188,Male,28,101,68\n",
            "0189,Female,41,103,17\n",
            "0190,Female,36,103,85\n",
            "0191,Female,34,103,23\n",
            "0192,Female,32,103,69\n",
            "0193,Male,33,113,8\n",
            "0194,Female,38,113,91\n",
            "0195,Female,47,120,16\n",
            "0196,Female,35,120,79\n",
            "0197,Female,45,126,28\n",
            "0198,Male,32,126,74\n",
            "0199,Male,32,137,18\n",
            "0200,Male,30,137,83\n",
            "File open status: True\n"
          ],
          "name": "stdout"
        }
      ]
    },
    {
      "cell_type": "code",
      "metadata": {
        "colab": {
          "base_uri": "https://localhost:8080/"
        },
        "id": "ykWL6YGCIwpj",
        "outputId": "0fcefb06-3c68-4943-f157-7676fe3884e1"
      },
      "source": [
        "from google.colab import drive\n",
        "drive.mount('/content/drive')"
      ],
      "execution_count": null,
      "outputs": [
        {
          "output_type": "stream",
          "text": [
            "Drive already mounted at /content/drive; to attempt to forcibly remount, call drive.mount(\"/content/drive\", force_remount=True).\n"
          ],
          "name": "stdout"
        }
      ]
    },
    {
      "cell_type": "markdown",
      "metadata": {
        "id": "b4xYmtOW_BCX"
      },
      "source": [
        "2)FILE OPERATIONS"
      ]
    },
    {
      "cell_type": "code",
      "metadata": {
        "id": "NbBCYwyS_Dw1",
        "colab": {
          "base_uri": "https://localhost:8080/"
        },
        "outputId": "f213b5ce-67c6-48d2-c4bd-881df2902c5d"
      },
      "source": [
        "import os\n",
        "f1=open(\"text2.txt\",\"w\")\n",
        "f1.write(\"Welcome to Artificial intelligence\")\n",
        "f1.close()\n",
        "print(\"New file \\\"text2.txt\\\"is created in the path.\")\n",
        "f1=open(\"text2.txt\",\"a\")\n",
        "f1.write(\" Happy Learning\")\n",
        "f1.close()\n",
        "f1=open(\"text2.txt\",\"r\")\n",
        "print(\"Filepointer position when it was opened: \", f1.tell())\n",
        "f1.seek(3)\n",
        "print(\"Filepointer position after seek(): \", f1.tell())\n",
        "print(\"Contents in file: \" , f1.read())\n",
        "print(\"Filepointer position after read(): \", f1.tell())\n",
        "f1.close()\n",
        "os.rename(\"text2.txt\",\"text3.txt\")\n",
        "os.remove(\"text3.txt\")\n"
      ],
      "execution_count": null,
      "outputs": [
        {
          "output_type": "stream",
          "text": [
            "New file \"text2.txt\"is created in the path.\n",
            "Filepointer position when it was opened:  0\n",
            "Filepointer position after seek():  3\n",
            "Contents in file:  come to Artificial intelligence Happy Learning\n",
            "Filepointer position after read():  49\n"
          ],
          "name": "stdout"
        }
      ]
    },
    {
      "cell_type": "markdown",
      "metadata": {
        "id": "aoFtiPtI_IdL"
      },
      "source": [
        "**c)** **Write a program to illustrate handling**"
      ]
    },
    {
      "cell_type": "code",
      "metadata": {
        "id": "QbnGcagB_JQN",
        "colab": {
          "base_uri": "https://localhost:8080/"
        },
        "outputId": "4830cb79-ab5d-478e-84d9-e64321d5e81e"
      },
      "source": [
        "try:\n",
        "    num=int(input(\"Enter numerator: \"))\n",
        "    den=int(input(\"enter denominator: \"))\n",
        "    q=num/den\n",
        "    print(\"Qutioent= \",q)\n",
        "except ZeroDivisionError:\n",
        "    print(\"Denominator is zero\")\n",
        "except ValueError:\n",
        "    print(\"Please eneter only digits\")\n",
        "finally:\n",
        "    print(\"this is finally block. this will be executed all the time..\");\n"
      ],
      "execution_count": null,
      "outputs": [
        {
          "output_type": "stream",
          "text": [
            "Enter numerator: 50\n",
            "enter denominator: 10\n",
            "Qutioent=  5.0\n",
            "this is finally block. this will be executed all the time..\n"
          ],
          "name": "stdout"
        }
      ]
    },
    {
      "cell_type": "markdown",
      "metadata": {
        "id": "DycQ36v0_LuZ"
      },
      "source": [
        "# **Exercise:5**"
      ]
    },
    {
      "cell_type": "markdown",
      "metadata": {
        "id": "Lt9jo6w2_ObZ"
      },
      "source": [
        "**a)** **Write a program using scikit-learn to implement K-means Clustering**"
      ]
    },
    {
      "cell_type": "code",
      "metadata": {
        "id": "TKPDuGXXFX2B"
      },
      "source": [
        "import pandas as pd\n",
        "import numpy as np\n",
        "import matplotlib.pyplot as plt \n",
        "import seaborn as sns\n",
        "sns.set(style=\"darkgrid\")\n",
        "\n",
        "from sklearn.cluster import KMeans \n",
        "from sklearn.preprocessing import StandardScaler\n",
        "\n",
        "from yellowbrick.cluster import KElbowVisualizer\n",
        "from sklearn.metrics import silhouette_samples, silhouette_score\n",
        "\n",
        "%matplotlib inline"
      ],
      "execution_count": null,
      "outputs": []
    },
    {
      "cell_type": "code",
      "metadata": {
        "id": "-3t_pyYfFeg6"
      },
      "source": [
        "data = pd.read_csv(\"/content/drive/MyDrive/Mall_Customers.csv\")"
      ],
      "execution_count": null,
      "outputs": []
    },
    {
      "cell_type": "code",
      "metadata": {
        "colab": {
          "base_uri": "https://localhost:8080/",
          "height": 205
        },
        "id": "82KzvQl3Fj3C",
        "outputId": "3ef736b8-a9c9-46fc-d676-298c7b6392fa"
      },
      "source": [
        "data.head(5)"
      ],
      "execution_count": null,
      "outputs": [
        {
          "output_type": "execute_result",
          "data": {
            "text/html": [
              "<div>\n",
              "<style scoped>\n",
              "    .dataframe tbody tr th:only-of-type {\n",
              "        vertical-align: middle;\n",
              "    }\n",
              "\n",
              "    .dataframe tbody tr th {\n",
              "        vertical-align: top;\n",
              "    }\n",
              "\n",
              "    .dataframe thead th {\n",
              "        text-align: right;\n",
              "    }\n",
              "</style>\n",
              "<table border=\"1\" class=\"dataframe\">\n",
              "  <thead>\n",
              "    <tr style=\"text-align: right;\">\n",
              "      <th></th>\n",
              "      <th>CustomerID</th>\n",
              "      <th>Genre</th>\n",
              "      <th>Age</th>\n",
              "      <th>Annual Income (k$)</th>\n",
              "      <th>Spending Score (1-100)</th>\n",
              "    </tr>\n",
              "  </thead>\n",
              "  <tbody>\n",
              "    <tr>\n",
              "      <th>0</th>\n",
              "      <td>1</td>\n",
              "      <td>Male</td>\n",
              "      <td>19</td>\n",
              "      <td>15</td>\n",
              "      <td>39</td>\n",
              "    </tr>\n",
              "    <tr>\n",
              "      <th>1</th>\n",
              "      <td>2</td>\n",
              "      <td>Male</td>\n",
              "      <td>21</td>\n",
              "      <td>15</td>\n",
              "      <td>81</td>\n",
              "    </tr>\n",
              "    <tr>\n",
              "      <th>2</th>\n",
              "      <td>3</td>\n",
              "      <td>Female</td>\n",
              "      <td>20</td>\n",
              "      <td>16</td>\n",
              "      <td>6</td>\n",
              "    </tr>\n",
              "    <tr>\n",
              "      <th>3</th>\n",
              "      <td>4</td>\n",
              "      <td>Female</td>\n",
              "      <td>23</td>\n",
              "      <td>16</td>\n",
              "      <td>77</td>\n",
              "    </tr>\n",
              "    <tr>\n",
              "      <th>4</th>\n",
              "      <td>5</td>\n",
              "      <td>Female</td>\n",
              "      <td>31</td>\n",
              "      <td>17</td>\n",
              "      <td>40</td>\n",
              "    </tr>\n",
              "  </tbody>\n",
              "</table>\n",
              "</div>"
            ],
            "text/plain": [
              "   CustomerID   Genre  Age  Annual Income (k$)  Spending Score (1-100)\n",
              "0           1    Male   19                  15                      39\n",
              "1           2    Male   21                  15                      81\n",
              "2           3  Female   20                  16                       6\n",
              "3           4  Female   23                  16                      77\n",
              "4           5  Female   31                  17                      40"
            ]
          },
          "metadata": {
            "tags": []
          },
          "execution_count": 3
        }
      ]
    },
    {
      "cell_type": "code",
      "metadata": {
        "colab": {
          "base_uri": "https://localhost:8080/"
        },
        "id": "mygBcud0Fu2F",
        "outputId": "125863c7-9611-41e6-d22b-ed2a283f2a2b"
      },
      "source": [
        "data.info()"
      ],
      "execution_count": null,
      "outputs": [
        {
          "output_type": "stream",
          "text": [
            "<class 'pandas.core.frame.DataFrame'>\n",
            "RangeIndex: 200 entries, 0 to 199\n",
            "Data columns (total 5 columns):\n",
            " #   Column                  Non-Null Count  Dtype \n",
            "---  ------                  --------------  ----- \n",
            " 0   CustomerID              200 non-null    int64 \n",
            " 1   Genre                   200 non-null    object\n",
            " 2   Age                     200 non-null    int64 \n",
            " 3   Annual Income (k$)      200 non-null    int64 \n",
            " 4   Spending Score (1-100)  200 non-null    int64 \n",
            "dtypes: int64(4), object(1)\n",
            "memory usage: 7.9+ KB\n"
          ],
          "name": "stdout"
        }
      ]
    },
    {
      "cell_type": "code",
      "metadata": {
        "colab": {
          "base_uri": "https://localhost:8080/",
          "height": 432
        },
        "id": "s05mxdgZFyiT",
        "outputId": "e48ecfe4-1a5a-4576-c561-1632e1554e5e"
      },
      "source": [
        "import missingno as mn\n",
        "mn.matrix(data)"
      ],
      "execution_count": null,
      "outputs": [
        {
          "output_type": "execute_result",
          "data": {
            "text/plain": [
              "<matplotlib.axes._subplots.AxesSubplot at 0x7f94844cdd10>"
            ]
          },
          "metadata": {
            "tags": []
          },
          "execution_count": 5
        },
        {
          "output_type": "display_data",
          "data": {
            "image/png": "[encoded data removed]",
            "text/plain": [
              "<Figure size 1800x720 with 2 Axes>"
            ]
          },
          "metadata": {
            "tags": [],
            "needs_background": "light"
          }
        }
      ]
    },
    {
      "cell_type": "code",
      "metadata": {
        "colab": {
          "base_uri": "https://localhost:8080/",
          "height": 352
        },
        "id": "JkfeJeRnF2mo",
        "outputId": "39375b93-8543-4ab6-cdac-cd51e37bbc02"
      },
      "source": [
        "plt.figure(figsize=(8,5))\n",
        "plt.scatter('Annual Income (k$)','Spending Score (1-100)',data=data, s=30, color=\"red\", alpha = 0.8)\n",
        "plt.xlabel('Annual Income')\n",
        "plt.ylabel('Spending Score')"
      ],
      "execution_count": null,
      "outputs": [
        {
          "output_type": "execute_result",
          "data": {
            "text/plain": [
              "Text(0, 0.5, 'Spending Score')"
            ]
          },
          "metadata": {
            "tags": []
          },
          "execution_count": 6
        },
        {
          "output_type": "display_data",
          "data": {
            "image/png": "[encoded data removed]",
            "text/plain": [
              "<Figure size 576x360 with 1 Axes>"
            ]
          },
          "metadata": {
            "tags": [],
            "needs_background": "light"
          }
        }
      ]
    },
    {
      "cell_type": "code",
      "metadata": {
        "colab": {
          "base_uri": "https://localhost:8080/"
        },
        "id": "Udgjl1OsF6JR",
        "outputId": "9da06d90-cf02-4fef-8452-2b2598d016cd"
      },
      "source": [
        "x= data.iloc[:,2:3]\n",
        "\n",
        "x_array =  np.array(x)\n",
        "print(x_array)"
      ],
      "execution_count": null,
      "outputs": [
        {
          "output_type": "stream",
          "text": [
            "[[19]\n",
            " [21]\n",
            " [20]\n",
            " [23]\n",
            " [31]\n",
            " [22]\n",
            " [35]\n",
            " [23]\n",
            " [64]\n",
            " [30]\n",
            " [67]\n",
            " [35]\n",
            " [58]\n",
            " [24]\n",
            " [37]\n",
            " [22]\n",
            " [35]\n",
            " [20]\n",
            " [52]\n",
            " [35]\n",
            " [35]\n",
            " [25]\n",
            " [46]\n",
            " [31]\n",
            " [54]\n",
            " [29]\n",
            " [45]\n",
            " [35]\n",
            " [40]\n",
            " [23]\n",
            " [60]\n",
            " [21]\n",
            " [53]\n",
            " [18]\n",
            " [49]\n",
            " [21]\n",
            " [42]\n",
            " [30]\n",
            " [36]\n",
            " [20]\n",
            " [65]\n",
            " [24]\n",
            " [48]\n",
            " [31]\n",
            " [49]\n",
            " [24]\n",
            " [50]\n",
            " [27]\n",
            " [29]\n",
            " [31]\n",
            " [49]\n",
            " [33]\n",
            " [31]\n",
            " [59]\n",
            " [50]\n",
            " [47]\n",
            " [51]\n",
            " [69]\n",
            " [27]\n",
            " [53]\n",
            " [70]\n",
            " [19]\n",
            " [67]\n",
            " [54]\n",
            " [63]\n",
            " [18]\n",
            " [43]\n",
            " [68]\n",
            " [19]\n",
            " [32]\n",
            " [70]\n",
            " [47]\n",
            " [60]\n",
            " [60]\n",
            " [59]\n",
            " [26]\n",
            " [45]\n",
            " [40]\n",
            " [23]\n",
            " [49]\n",
            " [57]\n",
            " [38]\n",
            " [67]\n",
            " [46]\n",
            " [21]\n",
            " [48]\n",
            " [55]\n",
            " [22]\n",
            " [34]\n",
            " [50]\n",
            " [68]\n",
            " [18]\n",
            " [48]\n",
            " [40]\n",
            " [32]\n",
            " [24]\n",
            " [47]\n",
            " [27]\n",
            " [48]\n",
            " [20]\n",
            " [23]\n",
            " [49]\n",
            " [67]\n",
            " [26]\n",
            " [49]\n",
            " [21]\n",
            " [66]\n",
            " [54]\n",
            " [68]\n",
            " [66]\n",
            " [65]\n",
            " [19]\n",
            " [38]\n",
            " [19]\n",
            " [18]\n",
            " [19]\n",
            " [63]\n",
            " [49]\n",
            " [51]\n",
            " [50]\n",
            " [27]\n",
            " [38]\n",
            " [40]\n",
            " [39]\n",
            " [23]\n",
            " [31]\n",
            " [43]\n",
            " [40]\n",
            " [59]\n",
            " [38]\n",
            " [47]\n",
            " [39]\n",
            " [25]\n",
            " [31]\n",
            " [20]\n",
            " [29]\n",
            " [44]\n",
            " [32]\n",
            " [19]\n",
            " [35]\n",
            " [57]\n",
            " [32]\n",
            " [28]\n",
            " [32]\n",
            " [25]\n",
            " [28]\n",
            " [48]\n",
            " [32]\n",
            " [34]\n",
            " [34]\n",
            " [43]\n",
            " [39]\n",
            " [44]\n",
            " [38]\n",
            " [47]\n",
            " [27]\n",
            " [37]\n",
            " [30]\n",
            " [34]\n",
            " [30]\n",
            " [56]\n",
            " [29]\n",
            " [19]\n",
            " [31]\n",
            " [50]\n",
            " [36]\n",
            " [42]\n",
            " [33]\n",
            " [36]\n",
            " [32]\n",
            " [40]\n",
            " [28]\n",
            " [36]\n",
            " [36]\n",
            " [52]\n",
            " [30]\n",
            " [58]\n",
            " [27]\n",
            " [59]\n",
            " [35]\n",
            " [37]\n",
            " [32]\n",
            " [46]\n",
            " [29]\n",
            " [41]\n",
            " [30]\n",
            " [54]\n",
            " [28]\n",
            " [41]\n",
            " [36]\n",
            " [34]\n",
            " [32]\n",
            " [33]\n",
            " [38]\n",
            " [47]\n",
            " [35]\n",
            " [45]\n",
            " [32]\n",
            " [32]\n",
            " [30]]\n"
          ],
          "name": "stdout"
        }
      ]
    },
    {
      "cell_type": "code",
      "metadata": {
        "colab": {
          "base_uri": "https://localhost:8080/"
        },
        "id": "jNDJoQkCF-2W",
        "outputId": "9d7b963b-6378-4571-ffe6-f1701eca96f4"
      },
      "source": [
        "scaler = StandardScaler() \n",
        "\n",
        "x_scaled = scaler.fit_transform(x_array)\n",
        "x_scaled"
      ],
      "execution_count": null,
      "outputs": [
        {
          "output_type": "execute_result",
          "data": {
            "text/plain": [
              "array([[-1.73899919, -0.43480148],\n",
              "       [-1.73899919,  1.19570407],\n",
              "       [-1.70082976, -1.71591298],\n",
              "       [-1.70082976,  1.04041783],\n",
              "       [-1.66266033, -0.39597992],\n",
              "       [-1.66266033,  1.00159627],\n",
              "       [-1.62449091, -1.71591298],\n",
              "       [-1.62449091,  1.70038436],\n",
              "       [-1.58632148, -1.83237767],\n",
              "       [-1.58632148,  0.84631002],\n",
              "       [-1.58632148, -1.4053405 ],\n",
              "       [-1.58632148,  1.89449216],\n",
              "       [-1.54815205, -1.36651894],\n",
              "       [-1.54815205,  1.04041783],\n",
              "       [-1.54815205, -1.44416206],\n",
              "       [-1.54815205,  1.11806095],\n",
              "       [-1.50998262, -0.59008772],\n",
              "       [-1.50998262,  0.61338066],\n",
              "       [-1.43364376, -0.82301709],\n",
              "       [-1.43364376,  1.8556706 ],\n",
              "       [-1.39547433, -0.59008772],\n",
              "       [-1.39547433,  0.88513158],\n",
              "       [-1.3573049 , -1.75473454],\n",
              "       [-1.3573049 ,  0.88513158],\n",
              "       [-1.24279661, -1.4053405 ],\n",
              "       [-1.24279661,  1.23452563],\n",
              "       [-1.24279661, -0.7065524 ],\n",
              "       [-1.24279661,  0.41927286],\n",
              "       [-1.20462718, -0.74537397],\n",
              "       [-1.20462718,  1.42863343],\n",
              "       [-1.16645776, -1.7935561 ],\n",
              "       [-1.16645776,  0.88513158],\n",
              "       [-1.05194947, -1.7935561 ],\n",
              "       [-1.05194947,  1.62274124],\n",
              "       [-1.05194947, -1.4053405 ],\n",
              "       [-1.05194947,  1.19570407],\n",
              "       [-1.01378004, -1.28887582],\n",
              "       [-1.01378004,  0.88513158],\n",
              "       [-0.89927175, -0.93948177],\n",
              "       [-0.89927175,  0.96277471],\n",
              "       [-0.86110232, -0.59008772],\n",
              "       [-0.86110232,  1.62274124],\n",
              "       [-0.82293289, -0.55126616],\n",
              "       [-0.82293289,  0.41927286],\n",
              "       [-0.82293289, -0.86183865],\n",
              "       [-0.82293289,  0.5745591 ],\n",
              "       [-0.78476346,  0.18634349],\n",
              "       [-0.78476346, -0.12422899],\n",
              "       [-0.78476346, -0.3183368 ],\n",
              "       [-0.78476346, -0.3183368 ],\n",
              "       [-0.70842461,  0.06987881],\n",
              "       [-0.70842461,  0.38045129],\n",
              "       [-0.67025518,  0.14752193],\n",
              "       [-0.67025518,  0.38045129],\n",
              "       [-0.67025518, -0.20187212],\n",
              "       [-0.67025518, -0.35715836],\n",
              "       [-0.63208575, -0.00776431],\n",
              "       [-0.63208575, -0.16305055],\n",
              "       [-0.55574689,  0.03105725],\n",
              "       [-0.55574689, -0.16305055],\n",
              "       [-0.55574689,  0.22516505],\n",
              "       [-0.55574689,  0.18634349],\n",
              "       [-0.51757746,  0.06987881],\n",
              "       [-0.51757746,  0.34162973],\n",
              "       [-0.47940803,  0.03105725],\n",
              "       [-0.47940803,  0.34162973],\n",
              "       [-0.47940803, -0.00776431],\n",
              "       [-0.47940803, -0.08540743],\n",
              "       [-0.47940803,  0.34162973],\n",
              "       [-0.47940803, -0.12422899],\n",
              "       [-0.4412386 ,  0.18634349],\n",
              "       [-0.4412386 , -0.3183368 ],\n",
              "       [-0.40306917, -0.04658587],\n",
              "       [-0.40306917,  0.22516505],\n",
              "       [-0.25039146, -0.12422899],\n",
              "       [-0.25039146,  0.14752193],\n",
              "       [-0.25039146,  0.10870037],\n",
              "       [-0.25039146, -0.08540743],\n",
              "       [-0.25039146,  0.06987881],\n",
              "       [-0.25039146, -0.3183368 ],\n",
              "       [-0.25039146,  0.03105725],\n",
              "       [-0.25039146,  0.18634349],\n",
              "       [-0.25039146, -0.35715836],\n",
              "       [-0.25039146, -0.24069368],\n",
              "       [-0.25039146,  0.26398661],\n",
              "       [-0.25039146, -0.16305055],\n",
              "       [-0.13588317,  0.30280817],\n",
              "       [-0.13588317,  0.18634349],\n",
              "       [-0.09771374,  0.38045129],\n",
              "       [-0.09771374, -0.16305055],\n",
              "       [-0.05954431,  0.18634349],\n",
              "       [-0.05954431, -0.35715836],\n",
              "       [-0.02137488, -0.04658587],\n",
              "       [-0.02137488, -0.39597992],\n",
              "       [-0.02137488, -0.3183368 ],\n",
              "       [-0.02137488,  0.06987881],\n",
              "       [-0.02137488, -0.12422899],\n",
              "       [-0.02137488, -0.00776431],\n",
              "       [ 0.01679455, -0.3183368 ],\n",
              "       [ 0.01679455, -0.04658587],\n",
              "       [ 0.05496398, -0.35715836],\n",
              "       [ 0.05496398, -0.08540743],\n",
              "       [ 0.05496398,  0.34162973],\n",
              "       [ 0.05496398,  0.18634349],\n",
              "       [ 0.05496398,  0.22516505],\n",
              "       [ 0.05496398, -0.3183368 ],\n",
              "       [ 0.09313341, -0.00776431],\n",
              "       [ 0.09313341, -0.16305055],\n",
              "       [ 0.09313341, -0.27951524],\n",
              "       [ 0.09313341, -0.08540743],\n",
              "       [ 0.09313341,  0.06987881],\n",
              "       [ 0.09313341,  0.14752193],\n",
              "       [ 0.13130284, -0.3183368 ],\n",
              "       [ 0.13130284, -0.16305055],\n",
              "       [ 0.16947227, -0.08540743],\n",
              "       [ 0.16947227, -0.00776431],\n",
              "       [ 0.16947227, -0.27951524],\n",
              "       [ 0.16947227,  0.34162973],\n",
              "       [ 0.24581112, -0.27951524],\n",
              "       [ 0.24581112,  0.26398661],\n",
              "       [ 0.24581112,  0.22516505],\n",
              "       [ 0.24581112, -0.39597992],\n",
              "       [ 0.32214998,  0.30280817],\n",
              "       [ 0.32214998,  1.58391968],\n",
              "       [ 0.36031941, -0.82301709],\n",
              "       [ 0.36031941,  1.04041783],\n",
              "       [ 0.39848884, -0.59008772],\n",
              "       [ 0.39848884,  1.73920592],\n",
              "       [ 0.39848884, -1.52180518],\n",
              "       [ 0.39848884,  0.96277471],\n",
              "       [ 0.39848884, -1.5994483 ],\n",
              "       [ 0.39848884,  0.96277471],\n",
              "       [ 0.43665827, -0.62890928],\n",
              "       [ 0.43665827,  0.80748846],\n",
              "       [ 0.4748277 , -1.75473454],\n",
              "       [ 0.4748277 ,  1.46745499],\n",
              "       [ 0.4748277 , -1.67709142],\n",
              "       [ 0.4748277 ,  0.88513158],\n",
              "       [ 0.51299713, -1.56062674],\n",
              "       [ 0.51299713,  0.84631002],\n",
              "       [ 0.55116656, -1.75473454],\n",
              "       [ 0.55116656,  1.6615628 ],\n",
              "       [ 0.58933599, -0.39597992],\n",
              "       [ 0.58933599,  1.42863343],\n",
              "       [ 0.62750542, -1.48298362],\n",
              "       [ 0.62750542,  1.81684904],\n",
              "       [ 0.62750542, -0.55126616],\n",
              "       [ 0.62750542,  0.92395314],\n",
              "       [ 0.66567484, -1.09476801],\n",
              "       [ 0.66567484,  1.54509812],\n",
              "       [ 0.66567484, -1.28887582],\n",
              "       [ 0.66567484,  1.46745499],\n",
              "       [ 0.66567484, -1.17241113],\n",
              "       [ 0.66567484,  1.00159627],\n",
              "       [ 0.66567484, -1.32769738],\n",
              "       [ 0.66567484,  1.50627656],\n",
              "       [ 0.66567484, -1.91002079],\n",
              "       [ 0.66567484,  1.07923939],\n",
              "       [ 0.66567484, -1.91002079],\n",
              "       [ 0.66567484,  0.88513158],\n",
              "       [ 0.70384427, -0.59008772],\n",
              "       [ 0.70384427,  1.27334719],\n",
              "       [ 0.78018313, -1.75473454],\n",
              "       [ 0.78018313,  1.6615628 ],\n",
              "       [ 0.93286085, -0.93948177],\n",
              "       [ 0.93286085,  0.96277471],\n",
              "       [ 0.97103028, -1.17241113],\n",
              "       [ 0.97103028,  1.73920592],\n",
              "       [ 1.00919971, -0.90066021],\n",
              "       [ 1.00919971,  0.49691598],\n",
              "       [ 1.00919971, -1.44416206],\n",
              "       [ 1.00919971,  0.96277471],\n",
              "       [ 1.00919971, -1.56062674],\n",
              "       [ 1.00919971,  1.62274124],\n",
              "       [ 1.04736914, -1.44416206],\n",
              "       [ 1.04736914,  1.38981187],\n",
              "       [ 1.04736914, -1.36651894],\n",
              "       [ 1.04736914,  0.72984534],\n",
              "       [ 1.23821628, -1.4053405 ],\n",
              "       [ 1.23821628,  1.54509812],\n",
              "       [ 1.390894  , -0.7065524 ],\n",
              "       [ 1.390894  ,  1.38981187],\n",
              "       [ 1.42906343, -1.36651894],\n",
              "       [ 1.42906343,  1.46745499],\n",
              "       [ 1.46723286, -0.43480148],\n",
              "       [ 1.46723286,  1.81684904],\n",
              "       [ 1.54357172, -1.01712489],\n",
              "       [ 1.54357172,  0.69102378],\n",
              "       [ 1.61991057, -1.28887582],\n",
              "       [ 1.61991057,  1.35099031],\n",
              "       [ 1.61991057, -1.05594645],\n",
              "       [ 1.61991057,  0.72984534],\n",
              "       [ 2.00160487, -1.63826986],\n",
              "       [ 2.00160487,  1.58391968],\n",
              "       [ 2.26879087, -1.32769738],\n",
              "       [ 2.26879087,  1.11806095],\n",
              "       [ 2.49780745, -0.86183865],\n",
              "       [ 2.49780745,  0.92395314],\n",
              "       [ 2.91767117, -1.25005425],\n",
              "       [ 2.91767117,  1.27334719]])"
            ]
          },
          "metadata": {
            "tags": []
          },
          "execution_count": 15
        }
      ]
    },
    {
      "cell_type": "code",
      "metadata": {
        "id": "ru4Jbiu5GB4p"
      },
      "source": [
        "# Fitting the model for values in range(1,11)\n",
        "\n",
        "SSD =[]\n",
        "K = range(1,11)\n",
        "\n",
        "for k in K:\n",
        "    km = KMeans(n_clusters = k)\n",
        "    km = km.fit(x_scaled)\n",
        "    SSD.append(km.inertia_)"
      ],
      "execution_count": null,
      "outputs": []
    },
    {
      "cell_type": "code",
      "metadata": {
        "colab": {
          "base_uri": "https://localhost:8080/",
          "height": 359
        },
        "id": "n6x3PRqIGGij",
        "outputId": "35d17e2e-6df4-4e81-f34e-2f27c7b98010"
      },
      "source": [
        "#plotting Elbow\n",
        "plt.figure(figsize=(8,5))\n",
        "plt.plot(K, SSD, 'bx-')\n",
        "plt.xlabel('Number of Clusters')\n",
        "plt.ylabel('Sum of squared distances')\n",
        "plt.title('Elbow Method For Optimal K')\n",
        "plt.show()"
      ],
      "execution_count": null,
      "outputs": [
        {
          "output_type": "display_data",
          "data": {
            "image/png": "[encoded data removed]",
            "text/plain": [
              "<Figure size 576x360 with 1 Axes>"
            ]
          },
          "metadata": {
            "tags": [],
            "needs_background": "light"
          }
        }
      ]
    },
    {
      "cell_type": "code",
      "metadata": {
        "colab": {
          "base_uri": "https://localhost:8080/"
        },
        "id": "3F1glhhAGMiN",
        "outputId": "487e8364-bd2b-4113-952f-5781aace863f"
      },
      "source": [
        "KMean= KMeans(n_clusters=5)\n",
        "KMean.fit(x_scaled)\n",
        "label=KMean.predict(x_scaled)\n",
        "\n",
        "print(\"Silhouette Score(n=5):\",silhouette_score(x_scaled, label))"
      ],
      "execution_count": null,
      "outputs": [
        {
          "output_type": "stream",
          "text": [
            "Silhouette Score(n=5): 0.5546571631111091\n"
          ],
          "name": "stdout"
        }
      ]
    },
    {
      "cell_type": "code",
      "metadata": {
        "colab": {
          "base_uri": "https://localhost:8080/",
          "height": 359
        },
        "id": "-OWyEf8lGQkw",
        "outputId": "63d76b69-7de0-4f78-be89-16a34d122d01"
      },
      "source": [
        "model = KMeans(random_state=123)\n",
        "\n",
        "# Instantiate the KElbowVisualizer with the number of clusters and the metric \n",
        "Visualizer = KElbowVisualizer(model, k=(2,6), metric='silhouette', timings=False)\n",
        "plt.figure(figsize=(8,5))\n",
        "# Fit the data and visualize\n",
        "Visualizer.fit(x_scaled)    \n",
        "Visualizer.poof()"
      ],
      "execution_count": null,
      "outputs": [
        {
          "output_type": "display_data",
          "data": {
            "image/png": "[encoded data removed]",
            "text/plain": [
              "<Figure size 576x360 with 1 Axes>"
            ]
          },
          "metadata": {
            "tags": [],
            "needs_background": "light"
          }
        }
      ]
    },
    {
      "cell_type": "code",
      "metadata": {
        "colab": {
          "base_uri": "https://localhost:8080/"
        },
        "id": "It06lPPOGV1P",
        "outputId": "f114129b-8513-40f0-a7a9-edbae8e10feb"
      },
      "source": [
        "print(KMean.cluster_centers_)"
      ],
      "execution_count": null,
      "outputs": [
        {
          "output_type": "stream",
          "text": [
            "[[-0.20091257 -0.02645617]\n",
            " [-1.32954532  1.13217788]\n",
            " [ 0.99158305  1.23950275]\n",
            " [-1.30751869 -1.13696536]\n",
            " [ 1.05500302 -1.28443907]]\n"
          ],
          "name": "stdout"
        }
      ]
    },
    {
      "cell_type": "code",
      "metadata": {
        "colab": {
          "base_uri": "https://localhost:8080/"
        },
        "id": "f99nuDCLGcHl",
        "outputId": "d6c7ecff-1d79-493f-c662-feb6f22f6e2f"
      },
      "source": [
        "print(KMean.labels_)"
      ],
      "execution_count": null,
      "outputs": [
        {
          "output_type": "stream",
          "text": [
            "[3 1 3 1 3 1 3 1 3 1 3 1 3 1 3 1 3 1 3 1 3 1 3 1 3 1 3 1 3 1 3 1 3 1 3 1 3\n",
            " 1 3 1 3 1 3 0 3 1 0 0 0 0 0 0 0 0 0 0 0 0 0 0 0 0 0 0 0 0 0 0 0 0 0 0 0 0\n",
            " 0 0 0 0 0 0 0 0 0 0 0 0 0 0 0 0 0 0 0 0 0 0 0 0 0 0 0 0 0 0 0 0 0 0 0 0 0\n",
            " 0 0 0 0 0 0 0 0 0 0 0 0 2 4 2 0 2 4 2 4 2 0 2 4 2 4 2 4 2 4 2 0 2 4 2 4 2\n",
            " 4 2 4 2 4 2 4 2 4 2 4 2 4 2 4 2 4 2 4 2 4 2 4 2 4 2 4 2 4 2 4 2 4 2 4 2 4\n",
            " 2 4 2 4 2 4 2 4 2 4 2 4 2 4 2]\n"
          ],
          "name": "stdout"
        }
      ]
    },
    {
      "cell_type": "code",
      "metadata": {
        "colab": {
          "base_uri": "https://localhost:8080/",
          "height": 205
        },
        "id": "G26jZ218GgKt",
        "outputId": "a4768f4b-ac62-483f-a597-1b495b0c2ca9"
      },
      "source": [
        "#Add cluster results columns to the dataset dataframe\n",
        "\n",
        "data[\"cluster\"] = KMean.labels_\n",
        "data.head()"
      ],
      "execution_count": null,
      "outputs": [
        {
          "output_type": "execute_result",
          "data": {
            "text/html": [
              "<div>\n",
              "<style scoped>\n",
              "    .dataframe tbody tr th:only-of-type {\n",
              "        vertical-align: middle;\n",
              "    }\n",
              "\n",
              "    .dataframe tbody tr th {\n",
              "        vertical-align: top;\n",
              "    }\n",
              "\n",
              "    .dataframe thead th {\n",
              "        text-align: right;\n",
              "    }\n",
              "</style>\n",
              "<table border=\"1\" class=\"dataframe\">\n",
              "  <thead>\n",
              "    <tr style=\"text-align: right;\">\n",
              "      <th></th>\n",
              "      <th>CustomerID</th>\n",
              "      <th>Genre</th>\n",
              "      <th>Age</th>\n",
              "      <th>Annual Income (k$)</th>\n",
              "      <th>Spending Score (1-100)</th>\n",
              "      <th>cluster</th>\n",
              "    </tr>\n",
              "  </thead>\n",
              "  <tbody>\n",
              "    <tr>\n",
              "      <th>0</th>\n",
              "      <td>1</td>\n",
              "      <td>Male</td>\n",
              "      <td>19</td>\n",
              "      <td>15</td>\n",
              "      <td>39</td>\n",
              "      <td>3</td>\n",
              "    </tr>\n",
              "    <tr>\n",
              "      <th>1</th>\n",
              "      <td>2</td>\n",
              "      <td>Male</td>\n",
              "      <td>21</td>\n",
              "      <td>15</td>\n",
              "      <td>81</td>\n",
              "      <td>1</td>\n",
              "    </tr>\n",
              "    <tr>\n",
              "      <th>2</th>\n",
              "      <td>3</td>\n",
              "      <td>Female</td>\n",
              "      <td>20</td>\n",
              "      <td>16</td>\n",
              "      <td>6</td>\n",
              "      <td>3</td>\n",
              "    </tr>\n",
              "    <tr>\n",
              "      <th>3</th>\n",
              "      <td>4</td>\n",
              "      <td>Female</td>\n",
              "      <td>23</td>\n",
              "      <td>16</td>\n",
              "      <td>77</td>\n",
              "      <td>1</td>\n",
              "    </tr>\n",
              "    <tr>\n",
              "      <th>4</th>\n",
              "      <td>5</td>\n",
              "      <td>Female</td>\n",
              "      <td>31</td>\n",
              "      <td>17</td>\n",
              "      <td>40</td>\n",
              "      <td>3</td>\n",
              "    </tr>\n",
              "  </tbody>\n",
              "</table>\n",
              "</div>"
            ],
            "text/plain": [
              "   CustomerID   Genre  Age  Annual Income (k$)  Spending Score (1-100)  cluster\n",
              "0           1    Male   19                  15                      39        3\n",
              "1           2    Male   21                  15                      81        1\n",
              "2           3  Female   20                  16                       6        3\n",
              "3           4  Female   23                  16                      77        1\n",
              "4           5  Female   31                  17                      40        3"
            ]
          },
          "metadata": {
            "tags": []
          },
          "execution_count": 22
        }
      ]
    },
    {
      "cell_type": "code",
      "metadata": {
        "colab": {
          "base_uri": "https://localhost:8080/",
          "height": 377
        },
        "id": "0yTAOoEHGhae",
        "outputId": "f92c1724-11d4-45da-dc7b-b9e6f78d4fd7"
      },
      "source": [
        "plt.figure(figsize=(8,5))\n",
        "\n",
        "plt.scatter(x_scaled[label==0, 0], x_scaled[label==0, 1], s=100, c='red', label ='Careless')\n",
        "plt.scatter(x_scaled[label==1, 0], x_scaled[label==1, 1], s=100, c='blue', label ='Target')\n",
        "plt.scatter(x_scaled[label==2, 0], x_scaled[label==2, 1], s=100, c='green', label ='Planner')\n",
        "plt.scatter(x_scaled[label==3, 0], x_scaled[label==3, 1], s=100, c='cyan', label ='Sensible')\n",
        "plt.scatter(x_scaled[label==4, 0], x_scaled[label==4, 1], s=100, c='magenta', label ='Moderate')\n",
        "\n",
        "plt.title('Cluster of Clients')\n",
        "plt.xlabel('Annual Income')\n",
        "plt.ylabel('Spending Score')\n",
        "plt.legend()\n",
        "plt.show"
      ],
      "execution_count": null,
      "outputs": [
        {
          "output_type": "execute_result",
          "data": {
            "text/plain": [
              "<function matplotlib.pyplot.show>"
            ]
          },
          "metadata": {
            "tags": []
          },
          "execution_count": 23
        },
        {
          "output_type": "display_data",
          "data": {
            "image/png": "[encoded data removed]",
            "text/plain": [
              "<Figure size 576x360 with 1 Axes>"
            ]
          },
          "metadata": {
            "tags": [],
            "needs_background": "light"
          }
        }
      ]
    },
    {
      "cell_type": "markdown",
      "metadata": {
        "id": "NbeK3zNhAhNS"
      },
      "source": [
        "**b)Program to calculate entrophy and information gain**"
      ]
    },
    {
      "cell_type": "markdown",
      "metadata": {
        "id": "g_NzHj7QAmJE"
      },
      "source": [
        "1.ENTROPY"
      ]
    },
    {
      "cell_type": "code",
      "metadata": {
        "id": "jLOgzpzDAm0Q"
      },
      "source": [
        "#Entropy is randomness\n",
        "from sympy import *"
      ],
      "execution_count": null,
      "outputs": []
    },
    {
      "cell_type": "code",
      "metadata": {
        "id": "fyUgNZgzApJx"
      },
      "source": [
        "import pandas as pd\n",
        "import numpy as np\n",
        "from scipy.stats import entropy as en"
      ],
      "execution_count": null,
      "outputs": []
    },
    {
      "cell_type": "code",
      "metadata": {
        "id": "EuY2zcWuAsgz"
      },
      "source": [
        "a=[1,2,3,4,1,2]"
      ],
      "execution_count": null,
      "outputs": []
    },
    {
      "cell_type": "code",
      "metadata": {
        "id": "HVRipmGLAwvg"
      },
      "source": [
        "a=pd.Series"
      ],
      "execution_count": null,
      "outputs": []
    },
    {
      "cell_type": "code",
      "metadata": {
        "colab": {
          "base_uri": "https://localhost:8080/"
        },
        "id": "1-wJpu9teLPx",
        "outputId": "d068511c-7075-47c4-89a1-722b88e4ea4f"
      },
      "source": [
        "data = [1,2,2,3,3,3]\n",
        "\n",
        "pd_series = pd.Series(data)\n",
        "counts = pd_series.value_counts()\n",
        "entropy = entropy(counts)\n",
        "\n",
        "print(entropy)"
      ],
      "execution_count": null,
      "outputs": [
        {
          "output_type": "stream",
          "text": [
            "1.0114042647073516\n"
          ],
          "name": "stdout"
        }
      ]
    },
    {
      "cell_type": "markdown",
      "metadata": {
        "id": "V0mHQCiAA3RT"
      },
      "source": [
        "2)INFORMATION GAIN"
      ]
    },
    {
      "cell_type": "code",
      "metadata": {
        "id": "mwiVruATA4Hz",
        "colab": {
          "base_uri": "https://localhost:8080/"
        },
        "outputId": "25530cef-7ba6-40f4-ed27-860e3e9a4973"
      },
      "source": [
        "from scipy.stats import entropy\n",
        "import pandas as pd\n",
        "def information_gain(members, split):\n",
        "    '''\n",
        "    Measures the reduction in entropy after the split  \n",
        "    :param v: Pandas Series of the members\n",
        "    :param split:\n",
        "    :return:\n",
        "    '''\n",
        "    entropy_before = entropy(members.value_counts(normalize=True))\n",
        "    split.name = 'split'\n",
        "    members.name = 'members'\n",
        "    grouped_distrib = members.groupby(split) \\\n",
        "                        .value_counts(normalize=True) \\\n",
        "                        .reset_index(name='count') \\\n",
        "                        .pivot_table(index='split', columns='members', values='count').fillna(0) \n",
        "    entropy_after = entropy(grouped_distrib, axis=1)\n",
        "    entropy_after *= split.value_counts(sort=False, normalize=True)\n",
        "    return entropy_before - entropy_after.sum()\n",
        "\n",
        "members = pd.Series(['yellow','yellow','green','green','blue'])\n",
        "split = pd.Series([0,0,1,1,0])\n",
        "print (information_gain(members, split))"
      ],
      "execution_count": null,
      "outputs": [
        {
          "output_type": "stream",
          "text": [
            "0.6730116670092565\n"
          ],
          "name": "stdout"
        }
      ]
    },
    {
      "cell_type": "markdown",
      "metadata": {
        "id": "2mLDVfb8A7lu"
      },
      "source": [
        "**c)Program to implement perceptron**"
      ]
    },
    {
      "cell_type": "code",
      "metadata": {
        "colab": {
          "base_uri": "https://localhost:8080/"
        },
        "id": "tZIUspYDfcWh",
        "outputId": "eae20226-9559-44be-e67d-513fb4a5fc7f"
      },
      "source": [
        "import numpy as np\n",
        "import pandas as pd\n",
        "import matplotlib.pyplot as plt\n",
        "def load_data():\n",
        "    URL_='https://archive.ics.uci.edu/ml/machine-learning-databases/iris/iris.data'\n",
        "    data = pd.read_csv(URL_, header = None)\n",
        "    print(data)\n",
        "    \n",
        "    # make the dataset linearly separable\n",
        "    data = data[:100]\n",
        "    data[4] = np.where(data.iloc[:, -1]=='Iris-setosa', 0, 1)\n",
        "    data = np.asmatrix(data, dtype = 'float64')\n",
        "    return data\n",
        "data = load_data()"
      ],
      "execution_count": null,
      "outputs": [
        {
          "output_type": "stream",
          "text": [
            "       0    1    2    3               4\n",
            "0    5.1  3.5  1.4  0.2     Iris-setosa\n",
            "1    4.9  3.0  1.4  0.2     Iris-setosa\n",
            "2    4.7  3.2  1.3  0.2     Iris-setosa\n",
            "3    4.6  3.1  1.5  0.2     Iris-setosa\n",
            "4    5.0  3.6  1.4  0.2     Iris-setosa\n",
            "..   ...  ...  ...  ...             ...\n",
            "145  6.7  3.0  5.2  2.3  Iris-virginica\n",
            "146  6.3  2.5  5.0  1.9  Iris-virginica\n",
            "147  6.5  3.0  5.2  2.0  Iris-virginica\n",
            "148  6.2  3.4  5.4  2.3  Iris-virginica\n",
            "149  5.9  3.0  5.1  1.8  Iris-virginica\n",
            "\n",
            "[150 rows x 5 columns]\n"
          ],
          "name": "stdout"
        }
      ]
    },
    {
      "cell_type": "code",
      "metadata": {
        "colab": {
          "base_uri": "https://localhost:8080/",
          "height": 291
        },
        "id": "B_l8OrhvhBsJ",
        "outputId": "9f29c06d-7949-413e-e14f-6e6d645d09bd"
      },
      "source": [
        "plt.scatter(np.array(data[:50,0]), np.array(data[:50,1]), marker='o', label='setosa')\n",
        "plt.scatter(np.array(data[50:,0]), np.array(data[50:,1]), marker='x', label='versicolor')\n",
        "plt.xlabel('petal length')\n",
        "plt.ylabel('sepal length')\n",
        "plt.legend()\n",
        "plt.show()"
      ],
      "execution_count": null,
      "outputs": [
        {
          "output_type": "display_data",
          "data": {
            "image/png": "[encoded data removed]",
            "text/plain": [
              "<Figure size 432x288 with 1 Axes>"
            ]
          },
          "metadata": {
            "tags": [],
            "needs_background": "light"
          }
        }
      ]
    },
    {
      "cell_type": "code",
      "metadata": {
        "id": "bb6rjqDuhLWz"
      },
      "source": [
        "def perceptron(data, num_iter):\n",
        "    features = data[:, :-2]\n",
        "    labels = data[:, -2]\n",
        "    \n",
        "    # set weights to zero\n",
        "    w = np.zeros(shape=(1, features.shape[1]+1))\n",
        "    \n",
        "    misclassified_ = [] \n",
        "  \n",
        "    for epoch in range(num_iter):\n",
        "        misclassified = 0\n",
        "        for x, label in zip(features, labels):\n",
        "            x = np.insert(x,0,1)\n",
        "            y = np.dot(w, x.transpose())\n",
        "            target = 1.0 if (y > 0) else 0.0\n",
        "            \n",
        "            delta = (label.item(0,0) - target)\n",
        "            \n",
        "            if(delta): # misclassified\n",
        "                misclassified += 1\n",
        "                w += (delta * x)\n",
        "        \n",
        "        misclassified_.append(misclassified)\n",
        "    return (w, misclassified_)\n",
        "             \n",
        "num_iter = 10\n",
        "w, misclassified_ = perceptron(data, num_iter)"
      ],
      "execution_count": null,
      "outputs": []
    },
    {
      "cell_type": "code",
      "metadata": {
        "colab": {
          "base_uri": "https://localhost:8080/",
          "height": 288
        },
        "id": "cZYTpKFKhO2j",
        "outputId": "e7c42acc-f44d-4894-c5c0-6b6608bc5303"
      },
      "source": [
        "epochs = np.arange(1, num_iter+1)\n",
        "plt.plot(epochs, misclassified_)\n",
        "plt.xlabel('iterations')\n",
        "plt.ylabel('misclassified')\n",
        "plt.show()"
      ],
      "execution_count": null,
      "outputs": [
        {
          "output_type": "display_data",
          "data": {
            "image/png": "[encoded data removed]",
            "text/plain": [
              "<Figure size 432x288 with 1 Axes>"
            ]
          },
          "metadata": {
            "tags": [],
            "needs_background": "light"
          }
        }
      ]
    },
    {
      "cell_type": "markdown",
      "metadata": {
        "id": "iaVCEMlyBDm1"
      },
      "source": [
        "# **Exercise:6**"
      ]
    },
    {
      "cell_type": "markdown",
      "metadata": {
        "id": "YskHuU0cBGJc"
      },
      "source": [
        "**a)Generate a decision tree.Find the depth of decision tree and observe the results then propose some changes in DecisionTreeClassifier function to limit**"
      ]
    },
    {
      "cell_type": "code",
      "metadata": {
        "colab": {
          "base_uri": "https://localhost:8080/"
        },
        "id": "kxxzoiGyWjVf",
        "outputId": "3912e73f-e08d-45b7-eccc-d7956e16c7fe"
      },
      "source": [
        "class Node:\n",
        "    def __init__(self, data):\n",
        "        self.data = data\n",
        "        self.left = None\n",
        "        self.right = None\n",
        "def maxDepth(node):\n",
        "    if node is None:\n",
        "        return 0 ;\n",
        "    else :\n",
        "        lDepth = maxDepth(node.left)\n",
        "        rDepth = maxDepth(node.right)       \n",
        "        if (lDepth > rDepth):\n",
        "            return lDepth+1\n",
        "        else:\n",
        "            return rDepth+1\n",
        "root = Node(15)\n",
        "root.left = Node(13)\n",
        "root.right = Node(27)\n",
        "root.left.left = Node(80)\n",
        "root.left.right = Node(35)\n",
        "root.left.left.right= Node(65)\n",
        "print (\"Height of tree is %d\" %(maxDepth(root)))"
      ],
      "execution_count": null,
      "outputs": [
        {
          "output_type": "stream",
          "text": [
            "Height of tree is 4\n"
          ],
          "name": "stdout"
        }
      ]
    },
    {
      "cell_type": "markdown",
      "metadata": {
        "id": "THvJqD0XBNYv"
      },
      "source": [
        "# **Exercise:7**"
      ]
    },
    {
      "cell_type": "markdown",
      "metadata": {
        "id": "s97_IBEdBQgr"
      },
      "source": [
        "**Calculating with matrices using numpy : inv, pinv, matrix_rank, solve, lstsq, svd, transpose, eig, sort, linspace, meshgrid, mgrid, ogrid, concatenate, tile, squeeze, integrate**"
      ]
    },
    {
      "cell_type": "code",
      "metadata": {
        "id": "knl48swsmohj"
      },
      "source": [
        "import numpy as np "
      ],
      "execution_count": null,
      "outputs": []
    },
    {
      "cell_type": "markdown",
      "metadata": {
        "id": "vKyFJNYgoUHT"
      },
      "source": [
        "**INV() PINV()**"
      ]
    },
    {
      "cell_type": "code",
      "metadata": {
        "colab": {
          "base_uri": "https://localhost:8080/"
        },
        "id": "tjc3PzL1qr5W",
        "outputId": "274c191d-c961-424d-88b1-06f30d25d511"
      },
      "source": [
        "from numpy import linalg\n",
        "matrix = np.array([\n",
        "                [10,20,30,40],\n",
        "                [34,54,36,90],\n",
        "                [48,83,94,23],\n",
        "                [23,45,36,89]\n",
        "])\n",
        "\n",
        "print(\"Inverse of matrix:\\n\")\n",
        "print(linalg.inv(matrix))\n",
        "print(\"\\n\\n\")\n",
        "print(\"Pseudo Inverse of matrix:\\n\")\n",
        "print(linalg.pinv(matrix))"
      ],
      "execution_count": null,
      "outputs": [
        {
          "output_type": "stream",
          "text": [
            "Inverse of matrix:\n",
            "\n",
            "[[ 1.33295973e-01  1.79088944e-01 -2.08950444e-02 -2.35609639e-01]\n",
            " [-1.65086863e-01 -1.08618205e-01  2.64190217e-02  1.77207589e-01]\n",
            " [ 7.29245056e-02  2.60187335e-03 -8.00576415e-05 -3.53854775e-02]\n",
            " [ 1.95260588e-02  7.58546153e-03 -7.92570651e-03 -3.16227684e-03]]\n",
            "\n",
            "\n",
            "\n",
            "Pseudo Inverse of matrix:\n",
            "\n",
            "[[ 1.33295973e-01  1.79088944e-01 -2.08950444e-02 -2.35609639e-01]\n",
            " [-1.65086863e-01 -1.08618205e-01  2.64190217e-02  1.77207589e-01]\n",
            " [ 7.29245056e-02  2.60187335e-03 -8.00576415e-05 -3.53854775e-02]\n",
            " [ 1.95260588e-02  7.58546153e-03 -7.92570651e-03 -3.16227684e-03]]\n"
          ],
          "name": "stdout"
        }
      ]
    },
    {
      "cell_type": "markdown",
      "metadata": {
        "id": "xScesV58nKBn"
      },
      "source": [
        "**MATRIX_RANK()**"
      ]
    },
    {
      "cell_type": "code",
      "metadata": {
        "colab": {
          "base_uri": "https://localhost:8080/"
        },
        "id": "XkWb1k69nQw3",
        "outputId": "a87e661d-fccc-4c31-8f88-e6d2f8dcc618"
      },
      "source": [
        "matrix = np.eye(5)\n",
        "print(matrix)\n",
        "\n",
        "print(\"Rank of matrix: \",linalg.matrix_rank(matrix))"
      ],
      "execution_count": null,
      "outputs": [
        {
          "output_type": "stream",
          "text": [
            "[[1. 0. 0. 0. 0.]\n",
            " [0. 1. 0. 0. 0.]\n",
            " [0. 0. 1. 0. 0.]\n",
            " [0. 0. 0. 1. 0.]\n",
            " [0. 0. 0. 0. 1.]]\n",
            "Rank of matrix:  5\n"
          ],
          "name": "stdout"
        }
      ]
    },
    {
      "cell_type": "markdown",
      "metadata": {
        "id": "fv7NhPF7nXol"
      },
      "source": [
        "SOLVE()"
      ]
    },
    {
      "cell_type": "markdown",
      "metadata": {
        "id": "ckW42nZ_nbRE"
      },
      "source": [
        "SOLVING LINEAR EQUATION:\n",
        " \n",
        "8x+2y=-5\n",
        "\n",
        "\n",
        "4x-6y=2"
      ]
    },
    {
      "cell_type": "code",
      "metadata": {
        "colab": {
          "base_uri": "https://localhost:8080/"
        },
        "id": "RoI2KFaemzdk",
        "outputId": "eea8342b-39f3-4808-8c1a-f2fd7510f43e"
      },
      "source": [
        "coeff_matrix = np.array([\n",
        "                         [8, 2],\n",
        "                         [4, -6]\n",
        "])\n",
        "\n",
        "const_matrix = np.array([-5, 2])\n",
        "\n",
        "solution = linalg.solve(coeff_matrix, const_matrix)\n",
        "\n",
        "print(solution)"
      ],
      "execution_count": null,
      "outputs": [
        {
          "output_type": "stream",
          "text": [
            "[-0.46428571 -0.64285714]\n"
          ],
          "name": "stdout"
        }
      ]
    },
    {
      "cell_type": "markdown",
      "metadata": {
        "id": "K4yLsnYdorrk"
      },
      "source": [
        "ISTSQ()"
      ]
    },
    {
      "cell_type": "code",
      "metadata": {
        "colab": {
          "base_uri": "https://localhost:8080/"
        },
        "id": "3jq7C-5OovTV",
        "outputId": "245c00b9-5eb5-4e3f-bdf6-23eff708e1d9"
      },
      "source": [
        "coeff_matrix = np.array([\n",
        "                         [4, -2],\n",
        "                         [3, 6]\n",
        "])\n",
        "\n",
        "const_matrix = np.array([2, -8])\n",
        "\n",
        "linalg.lstsq(coeff_matrix, const_matrix)"
      ],
      "execution_count": null,
      "outputs": [
        {
          "output_type": "stream",
          "text": [
            "/usr/local/lib/python3.7/dist-packages/ipykernel_launcher.py:8: FutureWarning: `rcond` parameter will change to the default of machine precision times ``max(M, N)`` where M and N are the input matrix dimensions.\n",
            "To use the future default and silence this warning we advise to pass `rcond=None`, to keep using the old, explicitly pass `rcond=-1`.\n",
            "  \n"
          ],
          "name": "stderr"
        },
        {
          "output_type": "execute_result",
          "data": {
            "text/plain": [
              "(array([-0.13333333, -1.26666667]),\n",
              " array([], dtype=float64),\n",
              " 2,\n",
              " array([6.70820393, 4.47213595]))"
            ]
          },
          "metadata": {
            "tags": []
          },
          "execution_count": 39
        }
      ]
    },
    {
      "cell_type": "code",
      "metadata": {
        "colab": {
          "base_uri": "https://localhost:8080/"
        },
        "id": "Ngcm8ZPMpCtE",
        "outputId": "f6c3a4f6-7857-4846-982a-0005ebd7afd5"
      },
      "source": [
        "X = np.array([\n",
        "              [7,14,21,28],\n",
        "              [15,30,45,60],\n",
        "              [2,5,7,9],\n",
        "              [9,5,0,1]\n",
        "])\n",
        "\n",
        "u, s, v = linalg.svd(X)\n",
        "\n",
        "print(\"Matirx:\")\n",
        "print(X)\n",
        "print(\"\\n\")\n",
        "print(\"U:\")\n",
        "print(u)\n",
        "print(\"\\n\")\n",
        "print(\"Sigma:\")\n",
        "print(s)\n",
        "print(\"\\n\")\n",
        "print(\"V*\")\n",
        "print(v)\n",
        "\n",
        "print(\"\\nOriginal Matrix\")\n",
        "print((u@np.diag(s))@v)\n",
        "\n"
      ],
      "execution_count": null,
      "outputs": [
        {
          "output_type": "stream",
          "text": [
            "Matirx:\n",
            "[[ 7 14 21 28]\n",
            " [15 30 45 60]\n",
            " [ 2  5  7  9]\n",
            " [ 9  5  0  1]]\n",
            "\n",
            "\n",
            "U:\n",
            "[[-4.18412133e-01 -1.88099004e-02  5.83917057e-02 -9.06183140e-01]\n",
            " [-8.96597428e-01 -4.03069294e-02  1.25125084e-01  4.22885465e-01]\n",
            " [-1.37478221e-01 -1.63139146e-02 -9.90370433e-01 -7.21209879e-15]\n",
            " [-4.63041843e-02  9.98877067e-01 -1.00263275e-02  1.03496624e-16]]\n",
            "\n",
            "\n",
            "Sigma:\n",
            "[9.16325119e+01 9.44443755e+00 5.34191399e-01 3.29786419e-15]\n",
            "\n",
            "\n",
            "V*\n",
            "[[-0.18628258 -0.36749625 -0.54670428 -0.72894426]\n",
            " [ 0.87045867  0.36426407 -0.2459667  -0.22161628]\n",
            " [ 0.40180426 -0.80635408 -0.14178149  0.41017611]\n",
            " [-0.21483446  0.28644595 -0.78772636  0.50128041]]\n",
            "\n",
            "Original Matrix\n",
            "[[ 7.00000000e+00  1.40000000e+01  2.10000000e+01  2.80000000e+01]\n",
            " [ 1.50000000e+01  3.00000000e+01  4.50000000e+01  6.00000000e+01]\n",
            " [ 2.00000000e+00  5.00000000e+00  7.00000000e+00  9.00000000e+00]\n",
            " [ 9.00000000e+00  5.00000000e+00 -1.60675765e-17  1.00000000e+00]]\n"
          ],
          "name": "stdout"
        }
      ]
    },
    {
      "cell_type": "markdown",
      "metadata": {
        "id": "FQ58ZH_LpaMi"
      },
      "source": [
        "TRANSPOSE()"
      ]
    },
    {
      "cell_type": "code",
      "metadata": {
        "colab": {
          "base_uri": "https://localhost:8080/"
        },
        "id": "qJ71gMB_ppcA",
        "outputId": "38b78c8f-231a-4b76-efc1-b52c0bd19365"
      },
      "source": [
        "matrix = np.random.randint(100,200,24).reshape(3,8)\n",
        "print(\"Matrix:\")\n",
        "print(matrix)\n",
        "print(\"\\n\\n\")\n",
        "print(\"Transpose of Matrix:\")\n",
        "print(matrix.transpose())"
      ],
      "execution_count": null,
      "outputs": [
        {
          "output_type": "stream",
          "text": [
            "Matrix:\n",
            "[[119 160 110 160 193 195 138 153]\n",
            " [120 124 163 186 166 116 161 116]\n",
            " [112 155 155 196 151 197 127 143]]\n",
            "\n",
            "\n",
            "\n",
            "Transpose of Matrix:\n",
            "[[119 120 112]\n",
            " [160 124 155]\n",
            " [110 163 155]\n",
            " [160 186 196]\n",
            " [193 166 151]\n",
            " [195 116 197]\n",
            " [138 161 127]\n",
            " [153 116 143]]\n"
          ],
          "name": "stdout"
        }
      ]
    },
    {
      "cell_type": "markdown",
      "metadata": {
        "id": "j_kC9yyxpygM"
      },
      "source": [
        "EIG()"
      ]
    },
    {
      "cell_type": "code",
      "metadata": {
        "colab": {
          "base_uri": "https://localhost:8080/"
        },
        "id": "T8u9-D-QpzVl",
        "outputId": "f9c71ac2-88f2-4106-de19-d4d93311cd95"
      },
      "source": [
        "matrix = np.array([\n",
        "                   [22,0,0,0],\n",
        "                   [0,70,0,0],\n",
        "                   [0,0,50,0],\n",
        "                   [0,0,0,76]\n",
        "])\n",
        "\n",
        "print(\"Matrix: \")\n",
        "print(matrix)\n",
        "\n",
        "evl, evc = linalg.eig(matrix)\n",
        "\n",
        "print(\"\\nEigen values:\")\n",
        "print(evl)\n",
        "\n",
        "print(\"\\nEigen vectors:\")\n",
        "print(evc)"
      ],
      "execution_count": null,
      "outputs": [
        {
          "output_type": "stream",
          "text": [
            "Matrix: \n",
            "[[22  0  0  0]\n",
            " [ 0 70  0  0]\n",
            " [ 0  0 50  0]\n",
            " [ 0  0  0 76]]\n",
            "\n",
            "Eigen values:\n",
            "[22. 70. 50. 76.]\n",
            "\n",
            "Eigen vectors:\n",
            "[[1. 0. 0. 0.]\n",
            " [0. 1. 0. 0.]\n",
            " [0. 0. 1. 0.]\n",
            " [0. 0. 0. 1.]]\n"
          ],
          "name": "stdout"
        }
      ]
    },
    {
      "cell_type": "markdown",
      "metadata": {
        "id": "BCzr65rBqB1I"
      },
      "source": [
        "SORT()"
      ]
    },
    {
      "cell_type": "code",
      "metadata": {
        "colab": {
          "base_uri": "https://localhost:8080/"
        },
        "id": "-B8V8EsnqCpv",
        "outputId": "1cce5f57-879d-4c5c-a656-46b3e43f8d79"
      },
      "source": [
        "matrix = np.random.randint(100,140,24).reshape(6,4)\n",
        "print(matrix)\n",
        "\n",
        "print(\"\\n\\nsorted:\")\n",
        "print(np.sort(matrix, axis=None))\n",
        "\n",
        "print(\"\\n\\nsorted row wise:\")\n",
        "print(np.sort(matrix, axis=0))\n",
        "\n",
        "print(\"\\n\\nsorted column wise:\")\n",
        "print(np.sort(matrix, axis=1))"
      ],
      "execution_count": null,
      "outputs": [
        {
          "output_type": "stream",
          "text": [
            "[[132 109 105 106]\n",
            " [136 112 126 111]\n",
            " [125 120 124 103]\n",
            " [125 122 103 107]\n",
            " [107 137 121 122]\n",
            " [124 113 122 106]]\n",
            "\n",
            "\n",
            "sorted:\n",
            "[103 103 105 106 106 107 107 109 111 112 113 120 121 122 122 122 124 124\n",
            " 125 125 126 132 136 137]\n",
            "\n",
            "\n",
            "sorted row wise:\n",
            "[[107 109 103 103]\n",
            " [124 112 105 106]\n",
            " [125 113 121 106]\n",
            " [125 120 122 107]\n",
            " [132 122 124 111]\n",
            " [136 137 126 122]]\n",
            "\n",
            "\n",
            "sorted column wise:\n",
            "[[105 106 109 132]\n",
            " [111 112 126 136]\n",
            " [103 120 124 125]\n",
            " [103 107 122 125]\n",
            " [107 121 122 137]\n",
            " [106 113 122 124]]\n"
          ],
          "name": "stdout"
        }
      ]
    },
    {
      "cell_type": "markdown",
      "metadata": {
        "id": "p6ymiagcqcCf"
      },
      "source": [
        "LINESPACE()"
      ]
    },
    {
      "cell_type": "code",
      "metadata": {
        "colab": {
          "base_uri": "https://localhost:8080/"
        },
        "id": "TYty1Uhhqcvp",
        "outputId": "5c64b99d-bdbf-4d8f-b7b8-ba0df13066f6"
      },
      "source": [
        "a = np.linspace(0,100,num=10)\n",
        "print(a)"
      ],
      "execution_count": null,
      "outputs": [
        {
          "output_type": "stream",
          "text": [
            "[  0.          11.11111111  22.22222222  33.33333333  44.44444444\n",
            "  55.55555556  66.66666667  77.77777778  88.88888889 100.        ]\n"
          ],
          "name": "stdout"
        }
      ]
    },
    {
      "cell_type": "markdown",
      "metadata": {
        "id": "kkeHkrLBqkIg"
      },
      "source": [
        "MESHGRID()"
      ]
    },
    {
      "cell_type": "code",
      "metadata": {
        "colab": {
          "base_uri": "https://localhost:8080/"
        },
        "id": "6b0y_rRnqk4r",
        "outputId": "d0f4e841-2c66-411e-aac5-1f845d8fb167"
      },
      "source": [
        "a = np.linspace(1,4,4)\n",
        "b = np.linspace(1,8,8)\n",
        "\n",
        "x,y = np.meshgrid(a,b)\n",
        "\n",
        "print(x)\n",
        "print(y)"
      ],
      "execution_count": null,
      "outputs": [
        {
          "output_type": "stream",
          "text": [
            "[[1. 2. 3. 4.]\n",
            " [1. 2. 3. 4.]\n",
            " [1. 2. 3. 4.]\n",
            " [1. 2. 3. 4.]\n",
            " [1. 2. 3. 4.]\n",
            " [1. 2. 3. 4.]\n",
            " [1. 2. 3. 4.]\n",
            " [1. 2. 3. 4.]]\n",
            "[[1. 1. 1. 1.]\n",
            " [2. 2. 2. 2.]\n",
            " [3. 3. 3. 3.]\n",
            " [4. 4. 4. 4.]\n",
            " [5. 5. 5. 5.]\n",
            " [6. 6. 6. 6.]\n",
            " [7. 7. 7. 7.]\n",
            " [8. 8. 8. 8.]]\n"
          ],
          "name": "stdout"
        }
      ]
    },
    {
      "cell_type": "markdown",
      "metadata": {
        "id": "mKuVvRIIquWm"
      },
      "source": [
        "MGRID()"
      ]
    },
    {
      "cell_type": "code",
      "metadata": {
        "colab": {
          "base_uri": "https://localhost:8080/"
        },
        "id": "YHGnjArLqvJz",
        "outputId": "d9bb55f7-6a70-4237-bb7c-a0cd4dd8372e"
      },
      "source": [
        "#mgrid\n",
        "np.mgrid[0:3,0:7]"
      ],
      "execution_count": null,
      "outputs": [
        {
          "output_type": "execute_result",
          "data": {
            "text/plain": [
              "array([[[0, 0, 0, 0, 0, 0, 0],\n",
              "        [1, 1, 1, 1, 1, 1, 1],\n",
              "        [2, 2, 2, 2, 2, 2, 2]],\n",
              "\n",
              "       [[0, 1, 2, 3, 4, 5, 6],\n",
              "        [0, 1, 2, 3, 4, 5, 6],\n",
              "        [0, 1, 2, 3, 4, 5, 6]]])"
            ]
          },
          "metadata": {
            "tags": []
          },
          "execution_count": 47
        }
      ]
    },
    {
      "cell_type": "markdown",
      "metadata": {
        "id": "JvAqqKwwryqb"
      },
      "source": [
        "OGRID()"
      ]
    },
    {
      "cell_type": "code",
      "metadata": {
        "colab": {
          "base_uri": "https://localhost:8080/"
        },
        "id": "NlzextWjr0he",
        "outputId": "12dc6994-327d-4235-f408-46e6da1eaa44"
      },
      "source": [
        "a = np.ogrid[1:10,5:20]\n",
        "print(a)"
      ],
      "execution_count": null,
      "outputs": [
        {
          "output_type": "stream",
          "text": [
            "[array([[1],\n",
            "       [2],\n",
            "       [3],\n",
            "       [4],\n",
            "       [5],\n",
            "       [6],\n",
            "       [7],\n",
            "       [8],\n",
            "       [9]]), array([[ 5,  6,  7,  8,  9, 10, 11, 12, 13, 14, 15, 16, 17, 18, 19]])]\n"
          ],
          "name": "stdout"
        }
      ]
    },
    {
      "cell_type": "markdown",
      "metadata": {
        "id": "bHcSRfNSsReD"
      },
      "source": [
        "CONCATENATE()"
      ]
    },
    {
      "cell_type": "code",
      "metadata": {
        "colab": {
          "base_uri": "https://localhost:8080/"
        },
        "id": "8xMOT6TYsSZn",
        "outputId": "018a45d0-e302-480d-d349-c2afe56a0e1c"
      },
      "source": [
        "a = np.array([\n",
        "              [10,20,30],\n",
        "              [40,50,60],\n",
        "              [70,80,90]\n",
        "])\n",
        "\n",
        "b = np.array([\n",
        "              [2,3,4],\n",
        "              [500,69,94],\n",
        "              [45,25,65]\n",
        "])\n",
        "x = np.concatenate((a,b), axis=0)\n",
        "print(x)\n",
        "\n",
        "print(\"\\n\\n\")\n",
        "x = np.concatenate((a,b), axis=1)\n",
        "print(x)"
      ],
      "execution_count": null,
      "outputs": [
        {
          "output_type": "stream",
          "text": [
            "[[ 10  20  30]\n",
            " [ 40  50  60]\n",
            " [ 70  80  90]\n",
            " [  2   3   4]\n",
            " [500  69  94]\n",
            " [ 45  25  65]]\n",
            "\n",
            "\n",
            "\n",
            "[[ 10  20  30   2   3   4]\n",
            " [ 40  50  60 500  69  94]\n",
            " [ 70  80  90  45  25  65]]\n"
          ],
          "name": "stdout"
        }
      ]
    },
    {
      "cell_type": "markdown",
      "metadata": {
        "id": "ORhmbY6vscZl"
      },
      "source": [
        "TILE()"
      ]
    },
    {
      "cell_type": "code",
      "metadata": {
        "colab": {
          "base_uri": "https://localhost:8080/"
        },
        "id": "Xcs1aesNsdVV",
        "outputId": "7391dbb7-ca84-493c-9fec-bd766e904562"
      },
      "source": [
        "a = np.array([\n",
        "              [10,20],\n",
        "              [30,40]\n",
        "])\n",
        "\n",
        "print(np.tile(a,3))\n",
        "print(\"\\n\\n\")\n",
        "print(np.tile(a,(2,2)))"
      ],
      "execution_count": null,
      "outputs": [
        {
          "output_type": "stream",
          "text": [
            "[[10 20 10 20 10 20]\n",
            " [30 40 30 40 30 40]]\n",
            "\n",
            "\n",
            "\n",
            "[[10 20 10 20]\n",
            " [30 40 30 40]\n",
            " [10 20 10 20]\n",
            " [30 40 30 40]]\n"
          ],
          "name": "stdout"
        }
      ]
    },
    {
      "cell_type": "markdown",
      "metadata": {
        "id": "uKzUiAj8sjct"
      },
      "source": [
        "SQUEEZE()"
      ]
    },
    {
      "cell_type": "code",
      "metadata": {
        "colab": {
          "base_uri": "https://localhost:8080/"
        },
        "id": "Moespx3ssmD3",
        "outputId": "55b15f9e-7958-461b-b6da-6e5f97d67912"
      },
      "source": [
        "a = np.array([\n",
        "              [4],\n",
        "              [5],\n",
        "              [6]\n",
        "])\n",
        "\n",
        "print(np.squeeze(a))"
      ],
      "execution_count": null,
      "outputs": [
        {
          "output_type": "stream",
          "text": [
            "[4 5 6]\n"
          ],
          "name": "stdout"
        }
      ]
    },
    {
      "cell_type": "markdown",
      "metadata": {
        "id": "9R1-QkXtsvHu"
      },
      "source": [
        "INTEGRATE()"
      ]
    },
    {
      "cell_type": "code",
      "metadata": {
        "colab": {
          "base_uri": "https://localhost:8080/"
        },
        "id": "56x8cbmfsxIF",
        "outputId": "c7ceb455-1f03-4afd-a38b-7ef2122dca91"
      },
      "source": [
        "from scipy import integrate\n",
        "def integrand(x, a, b):\n",
        "  return a*x**3 + b*x**2\n",
        "\n",
        "result = integrate.quad(integrand, 0, 2, args=(3,9))\n",
        "\n",
        "print(result)"
      ],
      "execution_count": null,
      "outputs": [
        {
          "output_type": "stream",
          "text": [
            "(36.0, 3.9968028886505635e-13)\n"
          ],
          "name": "stdout"
        }
      ]
    },
    {
      "cell_type": "markdown",
      "metadata": {
        "id": "Pj_8I19pBWSe"
      },
      "source": [
        "# **Exercise:8**"
      ]
    },
    {
      "cell_type": "markdown",
      "metadata": {
        "id": "dJ9lMxa0BZLu"
      },
      "source": [
        "**a)Program using pandas**"
      ]
    },
    {
      "cell_type": "code",
      "metadata": {
        "id": "GWXH3MXUBgcC",
        "colab": {
          "base_uri": "https://localhost:8080/"
        },
        "outputId": "a62a676b-639c-47a6-f92a-c093233240f0"
      },
      "source": [
        "#Series\n",
        "print(\"CREATING SERIES\")\n",
        "import pandas as pd\n",
        "import numpy as np\n",
        "t=pd.Series([1,3,5,6,8])#in series indexing will be there\n",
        "s=pd.Series([1,3,5,6,8],index=(10,11,12,13,14))#we can mention inex of our wish also\n",
        "print(t)\n",
        "print(s)\n",
        "print(s[:3])\n",
        "print(s[:-3])\n",
        "print(s[-3:])\n",
        "print(\".............\")\n",
        "#coverting numpy array to series \n",
        "data=np.array(['a','b','c','d'])\n",
        "s=pd.Series(data)\n",
        "t=pd.Series(data,index=[100,101,102,103])\n",
        "print(s)\n",
        "print(t)\n",
        "print(\".............\")\n",
        "#converting dictionary to series\n",
        "data={'a':0.,'b':1.,'c':2.}\n",
        "s=pd.Series(data,dtype=int)\n",
        "t=pd.Series(data,index=[100,101,102,103])\n",
        "print(s)\n",
        "print(t)\n",
        "print(\"__________\")\n",
        "#Dataframe\n",
        "print(\"CREATING DATAFRAME\")\n",
        "data=[['jessica',19],['rajesh',22],['sri',17]]\n",
        "print(data)\n",
        "print('......')\n",
        "x=pd.DataFrame(data)#normal dataframe\n",
        "print(x)\n",
        "print('.......')\n",
        "x=pd.DataFrame(data,index=['row1','row2','row3'])#dataframe with index changes\n",
        "print(x)\n",
        "print('......')\n",
        "x=pd.DataFrame(data,columns=['Name','Age'])#dataframe with col names changed\n",
        "print(x)\n",
        "print('......')\n",
        "x=pd.DataFrame(data,index=['row1','row2','row3'],columns=['Name','Age'])#dataframe with both index and col changes\n",
        "print(x)\n",
        "print('......')\n",
        "print(x.shape)#shape\n",
        "print('.......')\n",
        "print(x.T)#transpose of matrix\n",
        "print('.......')\n",
        "print(x.dtypes)\n",
        "print(\"__________\")\n",
        "#Adding a new column using pandas\n",
        "d = {'one' : pd.Series([1, 2, 3], index=['a', 'b', 'c']),\n",
        "   'two' : pd.Series([1, 2, 3, 4], index=['a', 'b', 'c', 'd'])}\n",
        "df = pd.DataFrame(d)\n",
        "print(df)\n",
        "print('...........')\n",
        "print (\"Adding a new column by passing as Series:\")\n",
        "df['three']=pd.Series([10,20,30],index=['a','b','c'])\n",
        "df['four'] = pd.Series([100, 200, 300])\n",
        "print(df)\n",
        "print('.....')\n",
        "print (\"Adding a new column using the existing columns in DataFrame:\")\n",
        "df['five']=df['one']*df['three']\n",
        "print(df)"
      ],
      "execution_count": null,
      "outputs": [
        {
          "output_type": "stream",
          "text": [
            "CREATING SERIES\n",
            "0    1\n",
            "1    3\n",
            "2    5\n",
            "3    6\n",
            "4    8\n",
            "dtype: int64\n",
            "10    1\n",
            "11    3\n",
            "12    5\n",
            "13    6\n",
            "14    8\n",
            "dtype: int64\n",
            "10    1\n",
            "11    3\n",
            "12    5\n",
            "dtype: int64\n",
            "10    1\n",
            "11    3\n",
            "dtype: int64\n",
            "12    5\n",
            "13    6\n",
            "14    8\n",
            "dtype: int64\n",
            ".............\n",
            "0    a\n",
            "1    b\n",
            "2    c\n",
            "3    d\n",
            "dtype: object\n",
            "100    a\n",
            "101    b\n",
            "102    c\n",
            "103    d\n",
            "dtype: object\n",
            ".............\n",
            "a    0\n",
            "b    1\n",
            "c    2\n",
            "dtype: int64\n",
            "100   NaN\n",
            "101   NaN\n",
            "102   NaN\n",
            "103   NaN\n",
            "dtype: float64\n",
            "__________\n",
            "CREATING DATAFRAME\n",
            "[['jessica', 19], ['rajesh', 22], ['sri', 17]]\n",
            "......\n",
            "         0   1\n",
            "0  jessica  19\n",
            "1   rajesh  22\n",
            "2      sri  17\n",
            ".......\n",
            "            0   1\n",
            "row1  jessica  19\n",
            "row2   rajesh  22\n",
            "row3      sri  17\n",
            "......\n",
            "      Name  Age\n",
            "0  jessica   19\n",
            "1   rajesh   22\n",
            "2      sri   17\n",
            "......\n",
            "         Name  Age\n",
            "row1  jessica   19\n",
            "row2   rajesh   22\n",
            "row3      sri   17\n",
            "......\n",
            "(3, 2)\n",
            ".......\n",
            "         row1    row2 row3\n",
            "Name  jessica  rajesh  sri\n",
            "Age        19      22   17\n",
            ".......\n",
            "Name    object\n",
            "Age      int64\n",
            "dtype: object\n",
            "__________\n",
            "   one  two\n",
            "a  1.0    1\n",
            "b  2.0    2\n",
            "c  3.0    3\n",
            "d  NaN    4\n",
            "...........\n",
            "Adding a new column by passing as Series:\n",
            "   one  two  three  four\n",
            "a  1.0    1   10.0   NaN\n",
            "b  2.0    2   20.0   NaN\n",
            "c  3.0    3   30.0   NaN\n",
            "d  NaN    4    NaN   NaN\n",
            ".....\n",
            "Adding a new column using the existing columns in DataFrame:\n",
            "   one  two  three  four  five\n",
            "a  1.0    1   10.0   NaN  10.0\n",
            "b  2.0    2   20.0   NaN  40.0\n",
            "c  3.0    3   30.0   NaN  90.0\n",
            "d  NaN    4    NaN   NaN   NaN\n"
          ],
          "name": "stdout"
        }
      ]
    },
    {
      "cell_type": "markdown",
      "metadata": {
        "id": "maJC57cPBit2"
      },
      "source": [
        "**b)Program using matplotlib-use minimum 5 techniques**"
      ]
    },
    {
      "cell_type": "markdown",
      "metadata": {
        "id": "wXuJETBuBmPW"
      },
      "source": [
        "1.LINE PLOT"
      ]
    },
    {
      "cell_type": "code",
      "metadata": {
        "id": "A-4JpG6sBjbm",
        "colab": {
          "base_uri": "https://localhost:8080/",
          "height": 265
        },
        "outputId": "ec5e01fb-d409-476f-d542-1c5f151ef00d"
      },
      "source": [
        "import matplotlib.pyplot as plt\n",
        "\n",
        "x= [2,4,6,8]\n",
        "plt.plot(x)\n",
        "\n",
        "plt.ylabel('some numbers')\n",
        "plt.show()"
      ],
      "execution_count": null,
      "outputs": [
        {
          "output_type": "display_data",
          "data": {
            "image/png": "[encoded data removed]",
            "text/plain": [
              "<Figure size 432x288 with 1 Axes>"
            ]
          },
          "metadata": {
            "tags": [],
            "needs_background": "light"
          }
        }
      ]
    },
    {
      "cell_type": "markdown",
      "metadata": {
        "id": "kNcddOhWBva7"
      },
      "source": [
        "2.SCATTER PLOT"
      ]
    },
    {
      "cell_type": "code",
      "metadata": {
        "id": "mGW6vyvdBwDq",
        "colab": {
          "base_uri": "https://localhost:8080/",
          "height": 299
        },
        "outputId": "8c7cc9ad-837b-43c1-d6ba-b0eabcb8e9e3"
      },
      "source": [
        "x = [2.5,3,5.5,7,11.5,23,27.5]\n",
        "y = [7,8.5,9,10.5,11,12.5,13]\n",
        "plt.scatter(x,y, label='high house price',color='y')\n",
        "\n",
        "plt.xlabel('price*100')\n",
        "plt.ylabel('area*1000')\n",
        "\n",
        "plt.title('Scatter Plot')\n",
        "\n",
        "plt.legend()\n",
        "plt.grid(False)\n",
        "plt.show()"
      ],
      "execution_count": null,
      "outputs": [
        {
          "output_type": "display_data",
          "data": {
            "image/png": "[encoded data removed]",
            "text/plain": [
              "<Figure size 432x288 with 1 Axes>"
            ]
          },
          "metadata": {
            "tags": []
          }
        }
      ]
    },
    {
      "cell_type": "markdown",
      "metadata": {
        "id": "m-HqrCu9B0YX"
      },
      "source": [
        "3.BARGRAPH"
      ]
    },
    {
      "cell_type": "code",
      "metadata": {
        "id": "gc8tJfQJB1A4",
        "colab": {
          "base_uri": "https://localhost:8080/",
          "height": 295
        },
        "outputId": "2a5c6677-5be5-4b97-9114-1f18ab53e33e"
      },
      "source": [
        "x1 = [1,3,5,7,9]\n",
        "y1 = [5,2,7,8,2]\n",
        "x2 = [2,4,6,8,10]\n",
        "y2 = [8,6,2,5,6]\n",
        "plt.bar(x1, y1, label=\"Example 1\",color=\"b\")\n",
        "plt.bar(x2, y2, label=\"Example 2\", color=\"y\")\n",
        "plt.legend()\n",
        "plt.xlabel(\"X axis\")\n",
        "plt.ylabel(\"Y axis\")\n",
        "plt.title(\"Bar graph\")\n",
        "plt.show()"
      ],
      "execution_count": null,
      "outputs": [
        {
          "output_type": "display_data",
          "data": {
            "image/png": "[encoded data removed]",
            "text/plain": [
              "<Figure size 432x288 with 1 Axes>"
            ]
          },
          "metadata": {
            "tags": [],
            "needs_background": "light"
          }
        }
      ]
    },
    {
      "cell_type": "markdown",
      "metadata": {
        "id": "rPSGqmLWB469"
      },
      "source": [
        "4.PIECHART"
      ]
    },
    {
      "cell_type": "code",
      "metadata": {
        "id": "nkJSn0jSB7pZ",
        "colab": {
          "base_uri": "https://localhost:8080/",
          "height": 265
        },
        "outputId": "42fb525f-3a08-439b-fa45-01bdc70b01e4"
      },
      "source": [
        "slices = [30,5,18,13]\n",
        "activities = ['ml','iot','robotics','nlp']\n",
        "cols = ['c','m','r','b']\n",
        "\n",
        "plt.pie(\n",
        "    slices,\n",
        "    labels=activities,\n",
        "    colors=cols,\n",
        "    startangle=180,\n",
        "    shadow=True,\n",
        "    explode=(0.3, 0.1, 0, 0),\n",
        "    autopct=\"%2.1f%%\"\n",
        ")\n",
        "plt.show()"
      ],
      "execution_count": null,
      "outputs": [
        {
          "output_type": "display_data",
          "data": {
            "image/png": "[encoded data removed]",
            "text/plain": [
              "<Figure size 432x288 with 1 Axes>"
            ]
          },
          "metadata": {
            "tags": []
          }
        }
      ]
    },
    {
      "cell_type": "markdown",
      "metadata": {
        "id": "USGQl7HWCA73"
      },
      "source": [
        "5.STACK PLOT"
      ]
    },
    {
      "cell_type": "code",
      "metadata": {
        "id": "BtjWe3ylCDYf",
        "colab": {
          "base_uri": "https://localhost:8080/",
          "height": 295
        },
        "outputId": "ea493f0a-7a16-48b7-83d2-225c945fea46"
      },
      "source": [
        "days = [1,2,3,4,5]\n",
        "  \n",
        "singing =[8,9,7,6,5]\n",
        "dancing = [2,3,4,3,2]\n",
        "working =[7,8,7,2,2]\n",
        "reading  = [1,5,3,7,8]\n",
        "\n",
        "plt.plot([],[],color='b', label='Singing', linewidth=5)\n",
        "plt.plot([],[],color='c', label='Dancing', linewidth=5)\n",
        "plt.plot([],[],color='r', label='Working', linewidth=5)\n",
        "plt.plot([],[],color='g', label='Reading', linewidth=5)\n",
        "\n",
        "plt.stackplot(days, singing,dancing,working,reading, colors=['c','r','y','b'])\n",
        "\n",
        "plt.xlabel('Day')\n",
        "plt.ylabel('Number of hours spent')\n",
        "plt.title('Stack Plot')\n",
        "plt.legend()\n",
        "plt.show()"
      ],
      "execution_count": null,
      "outputs": [
        {
          "output_type": "display_data",
          "data": {
            "image/png": "[encoded data removed]",
            "text/plain": [
              "<Figure size 432x288 with 1 Axes>"
            ]
          },
          "metadata": {
            "tags": [],
            "needs_background": "light"
          }
        }
      ]
    },
    {
      "cell_type": "markdown",
      "metadata": {
        "id": "m9Ux3bxcCH-e"
      },
      "source": [
        "# **Exercise:9**"
      ]
    },
    {
      "cell_type": "markdown",
      "metadata": {
        "id": "fXFyxvfJCKc2"
      },
      "source": [
        "**a)Graph using matplotlib**"
      ]
    },
    {
      "cell_type": "code",
      "metadata": {
        "id": "x4lx6GGOCM8V",
        "colab": {
          "base_uri": "https://localhost:8080/",
          "height": 265
        },
        "outputId": "3f09f02b-9a96-4fa8-e912-d9693e73a015"
      },
      "source": [
        "import numpy as np\n",
        "t = np.arange(0., 5., 0.2)\n",
        "\n",
        "#Two or more lines\n",
        "plt.plot(t, t, 'b--', t, t**2, 'gs', t, t**3, 'r^')\n",
        "plt.show()"
      ],
      "execution_count": null,
      "outputs": [
        {
          "output_type": "display_data",
          "data": {
            "image/png": "[encoded data removed]",
            "text/plain": [
              "<Figure size 432x288 with 1 Axes>"
            ]
          },
          "metadata": {
            "tags": [],
            "needs_background": "light"
          }
        }
      ]
    },
    {
      "cell_type": "code",
      "metadata": {
        "id": "8DvZ4rhcCVqW",
        "colab": {
          "base_uri": "https://localhost:8080/",
          "height": 301
        },
        "outputId": "149e98e7-2429-444d-c9ef-8e590435a18b"
      },
      "source": [
        "#With legend \n",
        "plt.plot([1, 2, 3, 4], [1, 4, 9, 16], 'g^', label=\" Sample Graph\")\n",
        "plt.legend(loc=\"upper left\")\n",
        "plt.xlabel(' Height')\n",
        "plt.ylabel('Weight')\n",
        "plt.axis([0, 5, 0, 20])"
      ],
      "execution_count": null,
      "outputs": [
        {
          "output_type": "execute_result",
          "data": {
            "text/plain": [
              "(0.0, 5.0, 0.0, 20.0)"
            ]
          },
          "metadata": {
            "tags": []
          },
          "execution_count": 29
        },
        {
          "output_type": "display_data",
          "data": {
            "image/png": "[encoded data removed]",
            "text/plain": [
              "<Figure size 432x288 with 1 Axes>"
            ]
          },
          "metadata": {
            "tags": [],
            "needs_background": "light"
          }
        }
      ]
    },
    {
      "cell_type": "code",
      "metadata": {
        "id": "dmbK0RPCCbEL",
        "colab": {
          "base_uri": "https://localhost:8080/",
          "height": 299
        },
        "outputId": "7f12648f-0486-4341-96a5-8e7124cd16ab"
      },
      "source": [
        "#Adding style to graph\n",
        "from matplotlib import style\n",
        "style.use(\"ggplot\")#this is used for grid look\n",
        "x = [5, 8, 10]\n",
        "y = [12, 16, 6]\n",
        "x2 = [6, 9, 11]\n",
        "y2 = [6, 15, 7]\n",
        "plt.plot(x, y, 'g', label=\"line one\", linewidth=5)\n",
        "plt.plot(x2, y2, 'c', label=\"line two\", linewidth=5)\n",
        "plt.xlabel(\"X axis\")\n",
        "plt.ylabel(\"Y axis\")\n",
        "plt.title(\"Sample graph\")\n",
        "plt.legend() # Bydeafult upper right\n",
        "#plt.grid(True, color=\"b\")#this is used for color of lines in grid\n",
        "plt.grid(True)\n",
        "plt.show()"
      ],
      "execution_count": null,
      "outputs": [
        {
          "output_type": "display_data",
          "data": {
            "image/png": "[encoded data removed]",
            "text/plain": [
              "<Figure size 432x288 with 1 Axes>"
            ]
          },
          "metadata": {
            "tags": []
          }
        }
      ]
    },
    {
      "cell_type": "code",
      "metadata": {
        "id": "oPD58IAXCeDq",
        "colab": {
          "base_uri": "https://localhost:8080/",
          "height": 299
        },
        "outputId": "c3c41234-65e0-4645-cd09-9cdb79a89d76"
      },
      "source": [
        "# bar graph for categorical values\n",
        "x1 = [1,3,5,7,9]\n",
        "y1 = [5,2,7,8,2]\n",
        "x2 = [2,4,6,8,10]\n",
        "y2 = [8,6,2,5,6]\n",
        "plt.bar(x1, y1, label=\"Example 1\",color='b')\n",
        "plt.bar(x2, y2, label=\"Example 2\", color=\"y\")\n",
        "plt.legend()\n",
        "plt.xlabel(\"X axis\")\n",
        "plt.ylabel(\"Y axis\")\n",
        "plt.title(\"Bar graph\")\n",
        "plt.show()"
      ],
      "execution_count": null,
      "outputs": [
        {
          "output_type": "display_data",
          "data": {
            "image/png": "[encoded data removed]",
            "text/plain": [
              "<Figure size 432x288 with 1 Axes>"
            ]
          },
          "metadata": {
            "tags": []
          }
        }
      ]
    },
    {
      "cell_type": "code",
      "metadata": {
        "id": "CNKyQ8fuCg2y",
        "colab": {
          "base_uri": "https://localhost:8080/",
          "height": 299
        },
        "outputId": "a3aa138e-a9e0-4e35-c3ed-4cb31f77aaa6"
      },
      "source": [
        "# histogram for numeric values\n",
        "population_age = [20,20,20,30,30,30,40,40,40,50,50,50,60,60,60]\n",
        "bins = [0,10,20,30,40,50,60,70,80,90,100]\n",
        "plt.hist(population_age, bins, color=\"b\", rwidth=0.1) # histogram is representing frequnecy of each value\n",
        "plt.xlabel('age groups')\n",
        "plt.ylabel('Number of people')\n",
        "plt.title('Histogram')\n",
        "plt.show()\n"
      ],
      "execution_count": null,
      "outputs": [
        {
          "output_type": "display_data",
          "data": {
            "image/png": "[encoded data removed]",
            "text/plain": [
              "<Figure size 432x288 with 1 Axes>"
            ]
          },
          "metadata": {
            "tags": []
          }
        }
      ]
    },
    {
      "cell_type": "code",
      "metadata": {
        "id": "p0FNuxzDCjui",
        "colab": {
          "base_uri": "https://localhost:8080/",
          "height": 299
        },
        "outputId": "ae03fbc9-e975-454c-9da1-93dc5518b369"
      },
      "source": [
        "#scatter plot\n",
        "x = [1,1.5,2,2.5,3,3.5,3.6]\n",
        "y = [7.5,8,8.5,9,9.5,10,10.5]\n",
        "plt.scatter(x,y, label='high house price',color='y')\n",
        "\n",
        "plt.xlabel('price*100')\n",
        "plt.ylabel('area*1000')\n",
        "\n",
        "plt.title('Scatter Plot')\n",
        "\n",
        "plt.legend()\n",
        "plt.grid(False)\n",
        "plt.show()"
      ],
      "execution_count": null,
      "outputs": [
        {
          "output_type": "display_data",
          "data": {
            "image/png": "[encoded data removed]",
            "text/plain": [
              "<Figure size 432x288 with 1 Axes>"
            ]
          },
          "metadata": {
            "tags": []
          }
        }
      ]
    },
    {
      "cell_type": "code",
      "metadata": {
        "id": "HIDjo59nCo7W",
        "colab": {
          "base_uri": "https://localhost:8080/",
          "height": 408
        },
        "outputId": "300c3962-2651-489e-a6f7-0cc794386d53"
      },
      "source": [
        "#sine ans cosine graphs\n",
        "x = np.arange(0, 3 * np.pi, 0.1)\n",
        "print(x)\n",
        "y_sin = np.sin(x)\n",
        "y_cos = np.cos(x)\n",
        "# Plot the points using matplotlib\n",
        "plt.plot(x, y_sin)\n",
        "plt.plot(x, y_cos)\n",
        "plt.xlabel('x axis label')\n",
        "plt.ylabel('y axis label')\n",
        "plt.title('Sine and Cosine')\n",
        "plt.legend(['Sine', 'Cosine'])\n",
        "plt.show()"
      ],
      "execution_count": null,
      "outputs": [
        {
          "output_type": "stream",
          "text": [
            "[0.  0.1 0.2 0.3 0.4 0.5 0.6 0.7 0.8 0.9 1.  1.1 1.2 1.3 1.4 1.5 1.6 1.7\n",
            " 1.8 1.9 2.  2.1 2.2 2.3 2.4 2.5 2.6 2.7 2.8 2.9 3.  3.1 3.2 3.3 3.4 3.5\n",
            " 3.6 3.7 3.8 3.9 4.  4.1 4.2 4.3 4.4 4.5 4.6 4.7 4.8 4.9 5.  5.1 5.2 5.3\n",
            " 5.4 5.5 5.6 5.7 5.8 5.9 6.  6.1 6.2 6.3 6.4 6.5 6.6 6.7 6.8 6.9 7.  7.1\n",
            " 7.2 7.3 7.4 7.5 7.6 7.7 7.8 7.9 8.  8.1 8.2 8.3 8.4 8.5 8.6 8.7 8.8 8.9\n",
            " 9.  9.1 9.2 9.3 9.4]\n"
          ],
          "name": "stdout"
        },
        {
          "output_type": "display_data",
          "data": {
            "image/png": "[encoded data removed]",
            "text/plain": [
              "<Figure size 432x288 with 1 Axes>"
            ]
          },
          "metadata": {
            "tags": []
          }
        }
      ]
    },
    {
      "cell_type": "markdown",
      "metadata": {
        "id": "h19qAs-iCrQc"
      },
      "source": [
        "# **Exercise:10**"
      ]
    },
    {
      "cell_type": "markdown",
      "metadata": {
        "id": "YoEejtz3Ct4p"
      },
      "source": [
        "**Vector using matplotlib**"
      ]
    },
    {
      "cell_type": "code",
      "metadata": {
        "id": "I7MEraA6PDsq",
        "colab": {
          "base_uri": "https://localhost:8080/",
          "height": 279
        },
        "outputId": "cefd41e1-c209-430e-a25d-39db34712b7a"
      },
      "source": [
        "#Plotting Of Vector In 2D\n",
        "import matplotlib.pyplot as plt\n",
        "ax = plt.axes()\n",
        "#(x,y,dx,dy):the starting point of vectors is (x,y) and the end point of vector is(x+dy,x+dx) where dx,dy are length of the arrow along x and y direction\n",
        "#fc=face color,ec=edge color\n",
        "ax.arrow(2.0, 4.0, 6.0, 4.0, head_width=0.5, head_length=0.7, fc='yellow', ec='red')\n",
        "plt.grid()\n",
        "plt.xlim(0,10)\n",
        "plt.ylim(0,10)\n",
        "plt.title('Vector Using Matplotlib',fontsize=10)\n",
        "plt.show()"
      ],
      "execution_count": null,
      "outputs": [
        {
          "output_type": "display_data",
          "data": {
            "image/png": "[encoded data removed]",
            "text/plain": [
              "<Figure size 432x288 with 1 Axes>"
            ]
          },
          "metadata": {
            "tags": [],
            "needs_background": "light"
          }
        }
      ]
    },
    {
      "cell_type": "code",
      "metadata": {
        "colab": {
          "base_uri": "https://localhost:8080/",
          "height": 279
        },
        "id": "SMjhKNYMiCbG",
        "outputId": "1377a326-6b35-4973-a0a9-128e39e8f531"
      },
      "source": [
        "#Plotting Of 2 Vectors In 2D\n",
        "ax = plt.axes()\n",
        "ax.arrow(2.0, 4.0, 6.0, 4.0, head_width=0.5, head_length=0.7, fc='yellow', ec='red')\n",
        "ax.arrow(2.0, 4.0, 4.0, 0.0, head_width=0.5, head_length=0.7, fc='green', ec='blue')\n",
        "plt.grid()\n",
        "plt.xlim(0,10)\n",
        "plt.ylim(0,10)\n",
        "plt.title('Vector Using Matplotlib',fontsize=10)\n",
        "plt.show()"
      ],
      "execution_count": null,
      "outputs": [
        {
          "output_type": "display_data",
          "data": {
            "image/png": "[encoded data removed]",
            "text/plain": [
              "<Figure size 432x288 with 1 Axes>"
            ]
          },
          "metadata": {
            "tags": [],
            "needs_background": "light"
          }
        }
      ]
    },
    {
      "cell_type": "code",
      "metadata": {
        "colab": {
          "base_uri": "https://localhost:8080/",
          "height": 279
        },
        "id": "mouVrnrWiLRW",
        "outputId": "fa3984db-a38e-4477-bee8-b4f5e89b9bb2"
      },
      "source": [
        "#Plotting Of 3 Vectors In 2D\n",
        "ax = plt.axes()\n",
        "ax.arrow(2.0, 4.0, 6.0, 4.0, head_width=0.5, head_length=0.7, fc='yellow', ec='red')\n",
        "ax.arrow(2.0, 4.0, 4.0, 0.0, head_width=0.5, head_length=0.7, fc='green', ec='blue')\n",
        "ax.arrow(2.0, 4.0, 2.0, 4.0, head_width=0.5, head_length=0.7, fc='blue', ec='black')\n",
        "plt.grid()\n",
        "plt.xlim(0,10)\n",
        "plt.ylim(0,10)\n",
        "plt.title('Vector Using Matplotlib',fontsize=10)\n",
        "plt.show()"
      ],
      "execution_count": null,
      "outputs": [
        {
          "output_type": "display_data",
          "data": {
            "image/png": "[encoded data removed]",
            "text/plain": [
              "<Figure size 432x288 with 1 Axes>"
            ]
          },
          "metadata": {
            "tags": [],
            "needs_background": "light"
          }
        }
      ]
    },
    {
      "cell_type": "code",
      "metadata": {
        "colab": {
          "base_uri": "https://localhost:8080/",
          "height": 266
        },
        "id": "5_i14y3jiP1v",
        "outputId": "c3af905c-867d-4269-b4cf-27e0e88e8d5e"
      },
      "source": [
        "#Plotting of single vector in 3D\n",
        "fig=plt.figure()\n",
        "ax=plt.axes(projection='3d')\n",
        "ax.set_xlim([-1,10])\n",
        "ax.set_ylim([-10,10])\n",
        "ax.set_zlim([1,10])\n",
        "start=[0,0,0] #starting of the vector\n",
        "end=[2,3,1]   # Ending of the vector\n",
        "ax.quiver(start[0],start[1],start[2],end[0],end[1],end[2])"
      ],
      "execution_count": null,
      "outputs": [
        {
          "output_type": "execute_result",
          "data": {
            "text/plain": [
              "<mpl_toolkits.mplot3d.art3d.Line3DCollection at 0x7f0ca0ff1290>"
            ]
          },
          "metadata": {
            "tags": []
          },
          "execution_count": 4
        },
        {
          "output_type": "display_data",
          "data": {
            "image/png": "[encoded data removed]",
            "text/plain": [
              "<Figure size 432x288 with 1 Axes>"
            ]
          },
          "metadata": {
            "tags": [],
            "needs_background": "light"
          }
        }
      ]
    },
    {
      "cell_type": "markdown",
      "metadata": {
        "id": "byLup65GiUVD"
      },
      "source": [
        "**SYMPY**"
      ]
    },
    {
      "cell_type": "code",
      "metadata": {
        "colab": {
          "base_uri": "https://localhost:8080/"
        },
        "id": "-AgJw1RQicU6",
        "outputId": "c13913c8-c28e-4b61-82bf-5fb21f105a51"
      },
      "source": [
        "pip install sympy"
      ],
      "execution_count": null,
      "outputs": [
        {
          "output_type": "stream",
          "text": [
            "Requirement already satisfied: sympy in /usr/local/lib/python3.7/dist-packages (1.7.1)\n",
            "Requirement already satisfied: mpmath>=0.19 in /usr/local/lib/python3.7/dist-packages (from sympy) (1.2.1)\n"
          ],
          "name": "stdout"
        }
      ]
    },
    {
      "cell_type": "code",
      "metadata": {
        "colab": {
          "base_uri": "https://localhost:8080/",
          "height": 35
        },
        "id": "cXWV0K8HimXC",
        "outputId": "5a55af87-2058-49d1-881d-94f63ceeac80"
      },
      "source": [
        "import sympy\n",
        "sympy.__version__"
      ],
      "execution_count": null,
      "outputs": [
        {
          "output_type": "execute_result",
          "data": {
            "application/vnd.google.colaboratory.intrinsic+json": {
              "type": "string"
            },
            "text/plain": [
              "'1.7.1'"
            ]
          },
          "metadata": {
            "tags": []
          },
          "execution_count": 6
        }
      ]
    },
    {
      "cell_type": "code",
      "metadata": {
        "colab": {
          "base_uri": "https://localhost:8080/"
        },
        "id": "0mfj-16Binlc",
        "outputId": "f342a646-0dd8-4975-fb66-f9121247e356"
      },
      "source": [
        "#math Vs sympy\n",
        "import math\n",
        "import sympy\n",
        "print(math.sqrt(25),math.sqrt(7))#it gives value\n",
        "print(sympy.sqrt(25),sympy.sqrt(7))#It gives symbols"
      ],
      "execution_count": null,
      "outputs": [
        {
          "output_type": "stream",
          "text": [
            "5.0 2.6457513110645907\n",
            "5 sqrt(7)\n"
          ],
          "name": "stdout"
        }
      ]
    },
    {
      "cell_type": "code",
      "metadata": {
        "colab": {
          "base_uri": "https://localhost:8080/"
        },
        "id": "ZKDrWdx8kZ30",
        "outputId": "f4956421-d593-41f7-bc15-930566901067"
      },
      "source": [
        "math.sqrt(144)"
      ],
      "execution_count": null,
      "outputs": [
        {
          "output_type": "execute_result",
          "data": {
            "text/plain": [
              "12.0"
            ]
          },
          "metadata": {
            "tags": []
          },
          "execution_count": 15
        }
      ]
    },
    {
      "cell_type": "code",
      "metadata": {
        "colab": {
          "base_uri": "https://localhost:8080/",
          "height": 55
        },
        "id": "4nWMbvICkbk8",
        "outputId": "65c6cee9-8e79-41db-ac1a-eb24e26c2b53"
      },
      "source": [
        "from sympy import * \n",
        "x=Symbol ('x') \n",
        "expr = integrate(x**x, x) \n",
        "expr"
      ],
      "execution_count": null,
      "outputs": [
        {
          "output_type": "execute_result",
          "data": {
            "text/latex": "$\\displaystyle \\int x^{x}\\, dx$",
            "text/plain": [
              "Integral(x**x, x)"
            ]
          },
          "metadata": {
            "tags": []
          },
          "execution_count": 16
        }
      ]
    },
    {
      "cell_type": "code",
      "metadata": {
        "id": "eIOSvEB-khno"
      },
      "source": [
        "from sympy import Float"
      ],
      "execution_count": null,
      "outputs": []
    },
    {
      "cell_type": "code",
      "metadata": {
        "colab": {
          "base_uri": "https://localhost:8080/",
          "height": 37
        },
        "id": "jrHi31_FkoQa",
        "outputId": "35f02867-6aee-41cf-b969-1f963bfa0171"
      },
      "source": [
        "Float(6.32)"
      ],
      "execution_count": null,
      "outputs": [
        {
          "output_type": "execute_result",
          "data": {
            "text/latex": "$\\displaystyle 6.32$",
            "text/plain": [
              "6.32000000000000"
            ]
          },
          "metadata": {
            "tags": []
          },
          "execution_count": 18
        }
      ]
    },
    {
      "cell_type": "code",
      "metadata": {
        "colab": {
          "base_uri": "https://localhost:8080/",
          "height": 37
        },
        "id": "uvpoFmGvkrm7",
        "outputId": "a954b61f-9bad-4d65-ac9b-1bde4e275e94"
      },
      "source": [
        "Float('1.33E5')"
      ],
      "execution_count": null,
      "outputs": [
        {
          "output_type": "execute_result",
          "data": {
            "text/latex": "$\\displaystyle 133000.0$",
            "text/plain": [
              "133000.000000000"
            ]
          },
          "metadata": {
            "tags": []
          },
          "execution_count": 19
        }
      ]
    },
    {
      "cell_type": "code",
      "metadata": {
        "colab": {
          "base_uri": "https://localhost:8080/",
          "height": 51
        },
        "id": "MYROe2pvkrxs",
        "outputId": "62bf7082-13d9-436f-f1c2-482564d785ce"
      },
      "source": [
        "Rational(3/4)"
      ],
      "execution_count": null,
      "outputs": [
        {
          "output_type": "execute_result",
          "data": {
            "text/latex": "$\\displaystyle \\frac{3}{4}$",
            "text/plain": [
              "3/4"
            ]
          },
          "metadata": {
            "tags": []
          },
          "execution_count": 20
        }
      ]
    },
    {
      "cell_type": "code",
      "metadata": {
        "colab": {
          "base_uri": "https://localhost:8080/",
          "height": 51
        },
        "id": "yb_ndICIk1Gr",
        "outputId": "3691d205-0d36-4bb7-e75d-6c83bb23e17f"
      },
      "source": [
        "Rational(0.2)"
      ],
      "execution_count": null,
      "outputs": [
        {
          "output_type": "execute_result",
          "data": {
            "text/latex": "$\\displaystyle \\frac{3602879701896397}{18014398509481984}$",
            "text/plain": [
              "3602879701896397/18014398509481984"
            ]
          },
          "metadata": {
            "tags": []
          },
          "execution_count": 21
        }
      ]
    },
    {
      "cell_type": "code",
      "metadata": {
        "colab": {
          "base_uri": "https://localhost:8080/",
          "height": 37
        },
        "id": "PtyDypJKlR45",
        "outputId": "d9661771-b7d9-4c3a-ba1e-b3ef9377f281"
      },
      "source": [
        "#infinity\n",
        "\n",
        "from sympy import oo\n",
        "oo"
      ],
      "execution_count": null,
      "outputs": [
        {
          "output_type": "execute_result",
          "data": {
            "text/latex": "$\\displaystyle \\infty$",
            "text/plain": [
              "oo"
            ]
          },
          "metadata": {
            "tags": []
          },
          "execution_count": 24
        }
      ]
    },
    {
      "cell_type": "code",
      "metadata": {
        "colab": {
          "base_uri": "https://localhost:8080/",
          "height": 54
        },
        "id": "_LDTGxGflDT6",
        "outputId": "55130ee9-746f-4de2-d74f-0aeec1a474f3"
      },
      "source": [
        "from sympy import *\n",
        "x = Symbol('x')\n",
        "integrate(x**2 + x + 1, x)"
      ],
      "execution_count": null,
      "outputs": [
        {
          "output_type": "execute_result",
          "data": {
            "text/latex": "$\\displaystyle \\frac{x^{3}}{3} + \\frac{x^{2}}{2} + x$",
            "text/plain": [
              "x**3/3 + x**2/2 + x"
            ]
          },
          "metadata": {
            "tags": []
          },
          "execution_count": 22
        }
      ]
    },
    {
      "cell_type": "code",
      "metadata": {
        "colab": {
          "base_uri": "https://localhost:8080/",
          "height": 53
        },
        "id": "KBwXukh5lHy8",
        "outputId": "a90af5de-e4f5-4693-f5ba-6e6b35f79962"
      },
      "source": [
        "integrate(x/(x**2+2*x+1), x)"
      ],
      "execution_count": null,
      "outputs": [
        {
          "output_type": "execute_result",
          "data": {
            "text/latex": "$\\displaystyle \\log{\\left(x + 1 \\right)} + \\frac{1}{x + 1}$",
            "text/plain": [
              "log(x + 1) + 1/(x + 1)"
            ]
          },
          "metadata": {
            "tags": []
          },
          "execution_count": 23
        }
      ]
    },
    {
      "cell_type": "code",
      "metadata": {
        "colab": {
          "base_uri": "https://localhost:8080/"
        },
        "id": "VvHbF9SelgF7",
        "outputId": "3e289689-48cb-4ea5-ef3f-25d31adccac4"
      },
      "source": [
        "from sympy.integrals.transforms import mellin_transform\n",
        "from sympy import exp\n",
        "from sympy.abc import x, s\n",
        "mellin_transform(exp(-x), x, s)"
      ],
      "execution_count": null,
      "outputs": [
        {
          "output_type": "execute_result",
          "data": {
            "text/plain": [
              "(gamma(s), (0, oo), True)"
            ]
          },
          "metadata": {
            "tags": []
          },
          "execution_count": 25
        }
      ]
    },
    {
      "cell_type": "code",
      "metadata": {
        "colab": {
          "base_uri": "https://localhost:8080/",
          "height": 39
        },
        "id": "UikJ-SfElhkw",
        "outputId": "d8fab89f-66af-4654-8d38-f3607fc9ab48"
      },
      "source": [
        "diff(cos(x), x)"
      ],
      "execution_count": null,
      "outputs": [
        {
          "output_type": "execute_result",
          "data": {
            "text/latex": "$\\displaystyle - \\sin{\\left(x \\right)}$",
            "text/plain": [
              "-sin(x)"
            ]
          },
          "metadata": {
            "tags": []
          },
          "execution_count": 26
        }
      ]
    },
    {
      "cell_type": "code",
      "metadata": {
        "colab": {
          "base_uri": "https://localhost:8080/",
          "height": 52
        },
        "id": "q4xWstnfl-DS",
        "outputId": "6be8b43e-96c4-4441-f8c8-cefdd53b7133"
      },
      "source": [
        "m, n, a, b = symbols('m n a b')\n",
        "expr = (a*x + b)**m\n",
        "expr.diff((x, n))"
      ],
      "execution_count": null,
      "outputs": [
        {
          "output_type": "execute_result",
          "data": {
            "text/latex": "$\\displaystyle \\frac{\\partial^{n}}{\\partial x^{n}} \\left(a x + b\\right)^{m}$",
            "text/plain": [
              "Derivative((a*x + b)**m, (x, n))"
            ]
          },
          "metadata": {
            "tags": []
          },
          "execution_count": 30
        }
      ]
    },
    {
      "cell_type": "code",
      "metadata": {
        "colab": {
          "base_uri": "https://localhost:8080/",
          "height": 55
        },
        "id": "KS8ocqNHmElC",
        "outputId": "426652a8-d680-441f-c42c-6e208f7ce3dd"
      },
      "source": [
        "expr = Integral(log(x)**2, x)\n",
        "expr"
      ],
      "execution_count": null,
      "outputs": [
        {
          "output_type": "execute_result",
          "data": {
            "text/latex": "$\\displaystyle \\int \\log{\\left(x \\right)}^{2}\\, dx$",
            "text/plain": [
              "Integral(log(x)**2, x)"
            ]
          },
          "metadata": {
            "tags": []
          },
          "execution_count": 31
        }
      ]
    },
    {
      "cell_type": "code",
      "metadata": {
        "colab": {
          "base_uri": "https://localhost:8080/",
          "height": 37
        },
        "id": "1A4G2dEgmTwh",
        "outputId": "1a51383e-b2b4-4697-feac-514ee33bb6b4"
      },
      "source": [
        "limit(sin(x)/x, x, 0)"
      ],
      "execution_count": null,
      "outputs": [
        {
          "output_type": "execute_result",
          "data": {
            "text/latex": "$\\displaystyle 1$",
            "text/plain": [
              "1"
            ]
          },
          "metadata": {
            "tags": []
          },
          "execution_count": 33
        }
      ]
    },
    {
      "cell_type": "code",
      "metadata": {
        "colab": {
          "base_uri": "https://localhost:8080/",
          "height": 54
        },
        "id": "Sz-8764MmXn4",
        "outputId": "3a5d8bf0-07fa-473d-d0de-3c51ecd6c324"
      },
      "source": [
        "expr = exp(sin(x))\n",
        "expr.series(x, 0, 10)"
      ],
      "execution_count": null,
      "outputs": [
        {
          "output_type": "execute_result",
          "data": {
            "text/latex": "$\\displaystyle 1 + x + \\frac{x^{2}}{2} - \\frac{x^{4}}{8} - \\frac{x^{5}}{15} - \\frac{x^{6}}{240} + \\frac{x^{7}}{90} + \\frac{31 x^{8}}{5760} + \\frac{x^{9}}{5670} + O\\left(x^{10}\\right)$",
            "text/plain": [
              "1 + x + x**2/2 - x**4/8 - x**5/15 - x**6/240 + x**7/90 + 31*x**8/5760 + x**9/5670 + O(x**10)"
            ]
          },
          "metadata": {
            "tags": []
          },
          "execution_count": 34
        }
      ]
    }
  ]
}